{
 "cells": [
  {
   "cell_type": "markdown",
   "id": "25de42b0-283d-45f2-bdd5-f48931e13e2f",
   "metadata": {},
   "source": [
    "### Import all the libraries"
   ]
  },
  {
   "cell_type": "code",
   "execution_count": 1,
   "id": "58b4123f-83b3-417e-8617-0cc6b954d8ca",
   "metadata": {},
   "outputs": [],
   "source": [
    "import pandas as pd\n",
    "import numpy as np\n",
    "import seaborn as sns\n",
    "import matplotlib.pyplot as plt\n",
    "import nltk\n",
    "import contractions \n",
    "import re\n",
    "from nltk.stem import PorterStemmer\n",
    "from nltk.stem import WordNetLemmatizer"
   ]
  },
  {
   "cell_type": "markdown",
   "id": "4b274aec-8598-4418-81e3-814818a9ded8",
   "metadata": {},
   "source": [
    "### Import data file"
   ]
  },
  {
   "cell_type": "code",
   "execution_count": 2,
   "id": "3d32539a-8879-447d-8c15-490f5a22dfbb",
   "metadata": {},
   "outputs": [],
   "source": [
    "data = pd.read_excel('Womens Clothing Reviews Data.xlsx')"
   ]
  },
  {
   "cell_type": "markdown",
   "id": "249d7eb4-d9e7-41f2-91f0-a48927bbdae9",
   "metadata": {},
   "source": [
    "#### Data preprocessing"
   ]
  },
  {
   "cell_type": "code",
   "execution_count": 3,
   "id": "2e645517-b460-4acc-96dd-f77afa3c95be",
   "metadata": {},
   "outputs": [
    {
     "data": {
      "text/html": [
       "<div>\n",
       "<style scoped>\n",
       "    .dataframe tbody tr th:only-of-type {\n",
       "        vertical-align: middle;\n",
       "    }\n",
       "\n",
       "    .dataframe tbody tr th {\n",
       "        vertical-align: top;\n",
       "    }\n",
       "\n",
       "    .dataframe thead th {\n",
       "        text-align: right;\n",
       "    }\n",
       "</style>\n",
       "<table border=\"1\" class=\"dataframe\">\n",
       "  <thead>\n",
       "    <tr style=\"text-align: right;\">\n",
       "      <th></th>\n",
       "      <th>Product ID</th>\n",
       "      <th>Category</th>\n",
       "      <th>Subcategory1</th>\n",
       "      <th>SubCategory2</th>\n",
       "      <th>Location</th>\n",
       "      <th>Channel</th>\n",
       "      <th>Customer Age</th>\n",
       "      <th>Review Title</th>\n",
       "      <th>Review Text</th>\n",
       "      <th>Rating</th>\n",
       "      <th>Recommend Flag</th>\n",
       "    </tr>\n",
       "  </thead>\n",
       "  <tbody>\n",
       "    <tr>\n",
       "      <th>0</th>\n",
       "      <td>767</td>\n",
       "      <td>Initmates</td>\n",
       "      <td>Intimate</td>\n",
       "      <td>Intimates</td>\n",
       "      <td>Mumbai</td>\n",
       "      <td>Mobile</td>\n",
       "      <td>33</td>\n",
       "      <td>NaN</td>\n",
       "      <td>Absolutely wonderful - silky and sexy and comf...</td>\n",
       "      <td>4</td>\n",
       "      <td>1</td>\n",
       "    </tr>\n",
       "    <tr>\n",
       "      <th>1</th>\n",
       "      <td>1080</td>\n",
       "      <td>General</td>\n",
       "      <td>Dresses</td>\n",
       "      <td>Dresses</td>\n",
       "      <td>Bangalore</td>\n",
       "      <td>Mobile</td>\n",
       "      <td>34</td>\n",
       "      <td>NaN</td>\n",
       "      <td>Love this dress!  it's sooo pretty.  i happene...</td>\n",
       "      <td>5</td>\n",
       "      <td>1</td>\n",
       "    </tr>\n",
       "    <tr>\n",
       "      <th>2</th>\n",
       "      <td>1077</td>\n",
       "      <td>General</td>\n",
       "      <td>Dresses</td>\n",
       "      <td>Dresses</td>\n",
       "      <td>Gurgaon</td>\n",
       "      <td>Mobile</td>\n",
       "      <td>60</td>\n",
       "      <td>Some major design flaws</td>\n",
       "      <td>I had such high hopes for this dress and reall...</td>\n",
       "      <td>3</td>\n",
       "      <td>0</td>\n",
       "    </tr>\n",
       "    <tr>\n",
       "      <th>3</th>\n",
       "      <td>1049</td>\n",
       "      <td>General Petite</td>\n",
       "      <td>Bottoms</td>\n",
       "      <td>Pants</td>\n",
       "      <td>Chennai</td>\n",
       "      <td>Web</td>\n",
       "      <td>50</td>\n",
       "      <td>My favorite buy!</td>\n",
       "      <td>I love, love, love this jumpsuit. it's fun, fl...</td>\n",
       "      <td>5</td>\n",
       "      <td>1</td>\n",
       "    </tr>\n",
       "    <tr>\n",
       "      <th>4</th>\n",
       "      <td>847</td>\n",
       "      <td>General</td>\n",
       "      <td>Tops</td>\n",
       "      <td>Blouses</td>\n",
       "      <td>Bangalore</td>\n",
       "      <td>Web</td>\n",
       "      <td>47</td>\n",
       "      <td>Flattering shirt</td>\n",
       "      <td>This shirt is very flattering to all due to th...</td>\n",
       "      <td>5</td>\n",
       "      <td>1</td>\n",
       "    </tr>\n",
       "  </tbody>\n",
       "</table>\n",
       "</div>"
      ],
      "text/plain": [
       "   Product ID        Category Subcategory1 SubCategory2   Location Channel  \\\n",
       "0         767       Initmates     Intimate    Intimates     Mumbai  Mobile   \n",
       "1        1080         General      Dresses      Dresses  Bangalore  Mobile   \n",
       "2        1077         General      Dresses      Dresses    Gurgaon  Mobile   \n",
       "3        1049  General Petite      Bottoms        Pants    Chennai     Web   \n",
       "4         847         General         Tops      Blouses  Bangalore     Web   \n",
       "\n",
       "   Customer Age             Review Title  \\\n",
       "0            33                      NaN   \n",
       "1            34                      NaN   \n",
       "2            60  Some major design flaws   \n",
       "3            50         My favorite buy!   \n",
       "4            47         Flattering shirt   \n",
       "\n",
       "                                         Review Text  Rating  Recommend Flag  \n",
       "0  Absolutely wonderful - silky and sexy and comf...       4               1  \n",
       "1  Love this dress!  it's sooo pretty.  i happene...       5               1  \n",
       "2  I had such high hopes for this dress and reall...       3               0  \n",
       "3  I love, love, love this jumpsuit. it's fun, fl...       5               1  \n",
       "4  This shirt is very flattering to all due to th...       5               1  "
      ]
     },
     "execution_count": 3,
     "metadata": {},
     "output_type": "execute_result"
    }
   ],
   "source": [
    "data.head()"
   ]
  },
  {
   "cell_type": "code",
   "execution_count": 4,
   "id": "6e54ecbf-da7a-46a1-9a85-9f235313b2e3",
   "metadata": {},
   "outputs": [
    {
     "name": "stdout",
     "output_type": "stream",
     "text": [
      "<class 'pandas.core.frame.DataFrame'>\n",
      "RangeIndex: 23486 entries, 0 to 23485\n",
      "Data columns (total 11 columns):\n",
      " #   Column          Non-Null Count  Dtype \n",
      "---  ------          --------------  ----- \n",
      " 0   Product ID      23486 non-null  int64 \n",
      " 1   Category        23472 non-null  object\n",
      " 2   Subcategory1    23472 non-null  object\n",
      " 3   SubCategory2    23472 non-null  object\n",
      " 4   Location        23486 non-null  object\n",
      " 5   Channel         23486 non-null  object\n",
      " 6   Customer Age    23486 non-null  int64 \n",
      " 7   Review Title    19676 non-null  object\n",
      " 8   Review Text     22641 non-null  object\n",
      " 9   Rating          23486 non-null  int64 \n",
      " 10  Recommend Flag  23486 non-null  int64 \n",
      "dtypes: int64(4), object(7)\n",
      "memory usage: 2.0+ MB\n"
     ]
    }
   ],
   "source": [
    "data.info()"
   ]
  },
  {
   "cell_type": "code",
   "execution_count": 5,
   "id": "6e38d6e7-c9d8-47c1-8432-c2735655d3bc",
   "metadata": {},
   "outputs": [
    {
     "data": {
      "text/plain": [
       "(23486, 11)"
      ]
     },
     "execution_count": 5,
     "metadata": {},
     "output_type": "execute_result"
    }
   ],
   "source": [
    "data.shape"
   ]
  },
  {
   "cell_type": "code",
   "execution_count": 6,
   "id": "83b1a208-ea31-48e6-ad3f-4975773ad935",
   "metadata": {},
   "outputs": [
    {
     "data": {
      "text/html": [
       "<div>\n",
       "<style scoped>\n",
       "    .dataframe tbody tr th:only-of-type {\n",
       "        vertical-align: middle;\n",
       "    }\n",
       "\n",
       "    .dataframe tbody tr th {\n",
       "        vertical-align: top;\n",
       "    }\n",
       "\n",
       "    .dataframe thead th {\n",
       "        text-align: right;\n",
       "    }\n",
       "</style>\n",
       "<table border=\"1\" class=\"dataframe\">\n",
       "  <thead>\n",
       "    <tr style=\"text-align: right;\">\n",
       "      <th></th>\n",
       "      <th>Product ID</th>\n",
       "      <th>Customer Age</th>\n",
       "      <th>Rating</th>\n",
       "      <th>Recommend Flag</th>\n",
       "    </tr>\n",
       "  </thead>\n",
       "  <tbody>\n",
       "    <tr>\n",
       "      <th>count</th>\n",
       "      <td>23486.000000</td>\n",
       "      <td>23486.000000</td>\n",
       "      <td>23486.000000</td>\n",
       "      <td>23486.000000</td>\n",
       "    </tr>\n",
       "    <tr>\n",
       "      <th>mean</th>\n",
       "      <td>918.118709</td>\n",
       "      <td>43.198544</td>\n",
       "      <td>4.196032</td>\n",
       "      <td>0.822362</td>\n",
       "    </tr>\n",
       "    <tr>\n",
       "      <th>std</th>\n",
       "      <td>203.298980</td>\n",
       "      <td>12.279544</td>\n",
       "      <td>1.110031</td>\n",
       "      <td>0.382216</td>\n",
       "    </tr>\n",
       "    <tr>\n",
       "      <th>min</th>\n",
       "      <td>0.000000</td>\n",
       "      <td>18.000000</td>\n",
       "      <td>1.000000</td>\n",
       "      <td>0.000000</td>\n",
       "    </tr>\n",
       "    <tr>\n",
       "      <th>25%</th>\n",
       "      <td>861.000000</td>\n",
       "      <td>34.000000</td>\n",
       "      <td>4.000000</td>\n",
       "      <td>1.000000</td>\n",
       "    </tr>\n",
       "    <tr>\n",
       "      <th>50%</th>\n",
       "      <td>936.000000</td>\n",
       "      <td>41.000000</td>\n",
       "      <td>5.000000</td>\n",
       "      <td>1.000000</td>\n",
       "    </tr>\n",
       "    <tr>\n",
       "      <th>75%</th>\n",
       "      <td>1078.000000</td>\n",
       "      <td>52.000000</td>\n",
       "      <td>5.000000</td>\n",
       "      <td>1.000000</td>\n",
       "    </tr>\n",
       "    <tr>\n",
       "      <th>max</th>\n",
       "      <td>1205.000000</td>\n",
       "      <td>99.000000</td>\n",
       "      <td>5.000000</td>\n",
       "      <td>1.000000</td>\n",
       "    </tr>\n",
       "  </tbody>\n",
       "</table>\n",
       "</div>"
      ],
      "text/plain": [
       "         Product ID  Customer Age        Rating  Recommend Flag\n",
       "count  23486.000000  23486.000000  23486.000000    23486.000000\n",
       "mean     918.118709     43.198544      4.196032        0.822362\n",
       "std      203.298980     12.279544      1.110031        0.382216\n",
       "min        0.000000     18.000000      1.000000        0.000000\n",
       "25%      861.000000     34.000000      4.000000        1.000000\n",
       "50%      936.000000     41.000000      5.000000        1.000000\n",
       "75%     1078.000000     52.000000      5.000000        1.000000\n",
       "max     1205.000000     99.000000      5.000000        1.000000"
      ]
     },
     "execution_count": 6,
     "metadata": {},
     "output_type": "execute_result"
    }
   ],
   "source": [
    "data.describe()"
   ]
  },
  {
   "cell_type": "code",
   "execution_count": 7,
   "id": "a708f3e8-54e9-4ad7-b4a8-cdb0b6d0b40a",
   "metadata": {},
   "outputs": [
    {
     "data": {
      "text/plain": [
       "Product ID           0\n",
       "Category            14\n",
       "Subcategory1        14\n",
       "SubCategory2        14\n",
       "Location             0\n",
       "Channel              0\n",
       "Customer Age         0\n",
       "Review Title      3810\n",
       "Review Text        845\n",
       "Rating               0\n",
       "Recommend Flag       0\n",
       "dtype: int64"
      ]
     },
     "execution_count": 7,
     "metadata": {},
     "output_type": "execute_result"
    }
   ],
   "source": [
    "data.isnull().sum()"
   ]
  },
  {
   "cell_type": "code",
   "execution_count": 8,
   "id": "490e60b2-e964-4991-99f7-dd7ffbde2c23",
   "metadata": {},
   "outputs": [],
   "source": [
    "# Handling missing values \n",
    "data.dropna(inplace=True)"
   ]
  },
  {
   "cell_type": "code",
   "execution_count": 9,
   "id": "4a844357-1afc-440d-b076-f6b90875a6fa",
   "metadata": {},
   "outputs": [
    {
     "data": {
      "text/plain": [
       "(19662, 11)"
      ]
     },
     "execution_count": 9,
     "metadata": {},
     "output_type": "execute_result"
    }
   ],
   "source": [
    "data.shape"
   ]
  },
  {
   "cell_type": "code",
   "execution_count": 10,
   "id": "e8c04728-ee0c-4475-bf96-7cbe20139f64",
   "metadata": {},
   "outputs": [
    {
     "data": {
      "text/plain": [
       "array(['I had such high hopes for this dress and really wanted it to work for me. i initially ordered the petite small (my usual size) but i found this to be outrageously small. so small in fact that i could not zip it up! i reordered it in petite medium, which was just ok. overall, the top half was comfortable and fit nicely, but the bottom half had a very tight under layer and several somewhat cheap (net) over layers. imo, a major design flaw was the net over layer sewn directly into the zipper - it c',\n",
       "       \"I love, love, love this jumpsuit. it's fun, flirty, and fabulous! every time i wear it, i get nothing but great compliments!\",\n",
       "       'This shirt is very flattering to all due to the adjustable front tie. it is the perfect length to wear with leggings and it is sleeveless so it pairs well with any cardigan. love this shirt!!!',\n",
       "       'I love tracy reese dresses, but this one is not for the very petite. i am just under 5 feet tall and usually wear a 0p in this brand. this dress was very pretty out of the package but its a lot of dress. the skirt is long and very full so it overwhelmed my small frame. not a stranger to alterations, shortening and narrowing the skirt would take away from the embellishment of the garment. i love the color and the idea of the style but it just did not work on me. i returned this dress.',\n",
       "       'I aded this in my basket at hte last mintue to see what it would look like in person. (store pick up). i went with teh darkler color only because i am so pale :-) hte color is really gorgeous, and turns out it mathced everythiing i was trying on with it prefectly. it is a little baggy on me and hte xs is hte msallet size (bummer, no petite). i decided to jkeep it though, because as i said, it matvehd everything. my ejans, pants, and the 3 skirts i waas trying on (of which i ]kept all ) oops.'],\n",
       "      dtype=object)"
      ]
     },
     "execution_count": 10,
     "metadata": {},
     "output_type": "execute_result"
    }
   ],
   "source": [
    "data['Review Text'].values[:5]"
   ]
  },
  {
   "cell_type": "code",
   "execution_count": 11,
   "id": "6d9a4a2c-372f-47bc-b4c3-945ed4f93c91",
   "metadata": {},
   "outputs": [
    {
     "data": {
      "text/plain": [
       "Review Title\n",
       "Love it!                           136\n",
       "Beautiful                           95\n",
       "Love                                88\n",
       "Love!                               83\n",
       "Beautiful!                          72\n",
       "                                  ... \n",
       "Flattering, vintage feel             1\n",
       "Very straight                        1\n",
       "Not for my body                      1\n",
       "Perfect transition dress             1\n",
       "Please make more like this one!      1\n",
       "Name: count, Length: 13983, dtype: int64"
      ]
     },
     "execution_count": 11,
     "metadata": {},
     "output_type": "execute_result"
    }
   ],
   "source": [
    "data['Review Title'].value_counts()"
   ]
  },
  {
   "cell_type": "code",
   "execution_count": 12,
   "id": "c89a8ff0-5274-4749-ac68-3e9046ca1339",
   "metadata": {},
   "outputs": [
    {
     "data": {
      "text/html": [
       "<div>\n",
       "<style scoped>\n",
       "    .dataframe tbody tr th:only-of-type {\n",
       "        vertical-align: middle;\n",
       "    }\n",
       "\n",
       "    .dataframe tbody tr th {\n",
       "        vertical-align: top;\n",
       "    }\n",
       "\n",
       "    .dataframe thead th {\n",
       "        text-align: right;\n",
       "    }\n",
       "</style>\n",
       "<table border=\"1\" class=\"dataframe\">\n",
       "  <thead>\n",
       "    <tr style=\"text-align: right;\">\n",
       "      <th></th>\n",
       "      <th>Product ID</th>\n",
       "      <th>Category</th>\n",
       "      <th>Subcategory1</th>\n",
       "      <th>SubCategory2</th>\n",
       "      <th>Location</th>\n",
       "      <th>Channel</th>\n",
       "      <th>Customer Age</th>\n",
       "      <th>Review Title</th>\n",
       "      <th>Review Text</th>\n",
       "      <th>Rating</th>\n",
       "      <th>Recommend Flag</th>\n",
       "      <th>Sentiment</th>\n",
       "    </tr>\n",
       "  </thead>\n",
       "  <tbody>\n",
       "    <tr>\n",
       "      <th>2</th>\n",
       "      <td>1077</td>\n",
       "      <td>General</td>\n",
       "      <td>Dresses</td>\n",
       "      <td>Dresses</td>\n",
       "      <td>Gurgaon</td>\n",
       "      <td>Mobile</td>\n",
       "      <td>60</td>\n",
       "      <td>Some major design flaws</td>\n",
       "      <td>I had such high hopes for this dress and reall...</td>\n",
       "      <td>3</td>\n",
       "      <td>0</td>\n",
       "      <td>Negative</td>\n",
       "    </tr>\n",
       "    <tr>\n",
       "      <th>3</th>\n",
       "      <td>1049</td>\n",
       "      <td>General Petite</td>\n",
       "      <td>Bottoms</td>\n",
       "      <td>Pants</td>\n",
       "      <td>Chennai</td>\n",
       "      <td>Web</td>\n",
       "      <td>50</td>\n",
       "      <td>My favorite buy!</td>\n",
       "      <td>I love, love, love this jumpsuit. it's fun, fl...</td>\n",
       "      <td>5</td>\n",
       "      <td>1</td>\n",
       "      <td>Positive</td>\n",
       "    </tr>\n",
       "    <tr>\n",
       "      <th>4</th>\n",
       "      <td>847</td>\n",
       "      <td>General</td>\n",
       "      <td>Tops</td>\n",
       "      <td>Blouses</td>\n",
       "      <td>Bangalore</td>\n",
       "      <td>Web</td>\n",
       "      <td>47</td>\n",
       "      <td>Flattering shirt</td>\n",
       "      <td>This shirt is very flattering to all due to th...</td>\n",
       "      <td>5</td>\n",
       "      <td>1</td>\n",
       "      <td>Positive</td>\n",
       "    </tr>\n",
       "    <tr>\n",
       "      <th>5</th>\n",
       "      <td>1080</td>\n",
       "      <td>General</td>\n",
       "      <td>Dresses</td>\n",
       "      <td>Dresses</td>\n",
       "      <td>Gurgaon</td>\n",
       "      <td>Web</td>\n",
       "      <td>49</td>\n",
       "      <td>Not for the very petite</td>\n",
       "      <td>I love tracy reese dresses, but this one is no...</td>\n",
       "      <td>2</td>\n",
       "      <td>0</td>\n",
       "      <td>Negative</td>\n",
       "    </tr>\n",
       "    <tr>\n",
       "      <th>6</th>\n",
       "      <td>858</td>\n",
       "      <td>General Petite</td>\n",
       "      <td>Tops</td>\n",
       "      <td>Knits</td>\n",
       "      <td>Gurgaon</td>\n",
       "      <td>Mobile</td>\n",
       "      <td>39</td>\n",
       "      <td>Cagrcoal shimmer fun</td>\n",
       "      <td>I aded this in my basket at hte last mintue to...</td>\n",
       "      <td>5</td>\n",
       "      <td>1</td>\n",
       "      <td>Positive</td>\n",
       "    </tr>\n",
       "  </tbody>\n",
       "</table>\n",
       "</div>"
      ],
      "text/plain": [
       "   Product ID        Category Subcategory1 SubCategory2   Location Channel  \\\n",
       "2        1077         General      Dresses      Dresses    Gurgaon  Mobile   \n",
       "3        1049  General Petite      Bottoms        Pants    Chennai     Web   \n",
       "4         847         General         Tops      Blouses  Bangalore     Web   \n",
       "5        1080         General      Dresses      Dresses    Gurgaon     Web   \n",
       "6         858  General Petite         Tops        Knits    Gurgaon  Mobile   \n",
       "\n",
       "   Customer Age             Review Title  \\\n",
       "2            60  Some major design flaws   \n",
       "3            50         My favorite buy!   \n",
       "4            47         Flattering shirt   \n",
       "5            49  Not for the very petite   \n",
       "6            39     Cagrcoal shimmer fun   \n",
       "\n",
       "                                         Review Text  Rating  Recommend Flag  \\\n",
       "2  I had such high hopes for this dress and reall...       3               0   \n",
       "3  I love, love, love this jumpsuit. it's fun, fl...       5               1   \n",
       "4  This shirt is very flattering to all due to th...       5               1   \n",
       "5  I love tracy reese dresses, but this one is no...       2               0   \n",
       "6  I aded this in my basket at hte last mintue to...       5               1   \n",
       "\n",
       "  Sentiment  \n",
       "2  Negative  \n",
       "3  Positive  \n",
       "4  Positive  \n",
       "5  Negative  \n",
       "6  Positive  "
      ]
     },
     "execution_count": 12,
     "metadata": {},
     "output_type": "execute_result"
    }
   ],
   "source": [
    "# Create Positive/Negative sentiment flag based on rating\n",
    "data['Sentiment'] = np.where(data['Rating'] >= 4, 'Positive', 'Negative')\n",
    "\n",
    "# Convert categorical variables to category type\n",
    "categorical_cols = ['Category', 'Subcategory1', 'SubCategory2', 'Location', 'Channel', 'Review Title', 'Review Text']\n",
    "data[categorical_cols] = data[categorical_cols].astype('category')\n",
    "data.head()"
   ]
  },
  {
   "cell_type": "code",
   "execution_count": 13,
   "id": "2d3bfbd8-6cbe-4381-895d-a1699e6cad4e",
   "metadata": {},
   "outputs": [
    {
     "data": {
      "text/plain": [
       "(19662, 12)"
      ]
     },
     "execution_count": 13,
     "metadata": {},
     "output_type": "execute_result"
    }
   ],
   "source": [
    "data.shape"
   ]
  },
  {
   "cell_type": "code",
   "execution_count": 14,
   "id": "2206cb62-3cdc-469b-8f58-cea1c91ad848",
   "metadata": {},
   "outputs": [
    {
     "data": {
      "text/plain": [
       "Sentiment\n",
       "Positive    15147\n",
       "Negative     4515\n",
       "Name: count, dtype: int64"
      ]
     },
     "execution_count": 14,
     "metadata": {},
     "output_type": "execute_result"
    }
   ],
   "source": [
    "data['Sentiment'].value_counts()"
   ]
  },
  {
   "cell_type": "markdown",
   "id": "c8dded1c-862d-44e5-b6c2-875e52a432c1",
   "metadata": {},
   "source": [
    "### Exploratory Data Analysis (EDA)"
   ]
  },
  {
   "cell_type": "code",
   "execution_count": 15,
   "id": "38d69b68-e5ea-4721-9b3d-c58acaa2ba03",
   "metadata": {},
   "outputs": [
    {
     "data": {
      "image/png": "[encoded data removed]",
      "text/plain": [
       "<Figure size 800x500 with 1 Axes>"
      ]
     },
     "metadata": {},
     "output_type": "display_data"
    },
    {
     "name": "stderr",
     "output_type": "stream",
     "text": [
      "C:\\Users\\hp\\anaconda3\\Lib\\site-packages\\seaborn\\categorical.py:641: FutureWarning: The default of observed=False is deprecated and will be changed to True in a future version of pandas. Pass observed=False to retain current behavior or observed=True to adopt the future default and silence this warning.\n",
      "  grouped_vals = vals.groupby(grouper)\n",
      "C:\\Users\\hp\\anaconda3\\Lib\\site-packages\\seaborn\\categorical.py:641: FutureWarning: The default of observed=False is deprecated and will be changed to True in a future version of pandas. Pass observed=False to retain current behavior or observed=True to adopt the future default and silence this warning.\n",
      "  grouped_vals = vals.groupby(grouper)\n"
     ]
    },
    {
     "data": {
      "image/png": "[encoded data removed]",
      "text/plain": [
       "<Figure size 800x500 with 1 Axes>"
      ]
     },
     "metadata": {},
     "output_type": "display_data"
    },
    {
     "name": "stderr",
     "output_type": "stream",
     "text": [
      "C:\\Users\\hp\\anaconda3\\Lib\\site-packages\\seaborn\\_oldcore.py:1119: FutureWarning: use_inf_as_na option is deprecated and will be removed in a future version. Convert inf values to NaN before operating instead.\n",
      "  with pd.option_context('mode.use_inf_as_na', True):\n"
     ]
    },
    {
     "data": {
      "image/png": "[encoded data removed]",
      "text/plain": [
       "<Figure size 800x500 with 1 Axes>"
      ]
     },
     "metadata": {},
     "output_type": "display_data"
    },
    {
     "data": {
      "image/png": "[encoded data removed]",
      "text/plain": [
       "<Figure size 800x500 with 1 Axes>"
      ]
     },
     "metadata": {},
     "output_type": "display_data"
    }
   ],
   "source": [
    "import matplotlib.pyplot as plt\n",
    "import seaborn as sns\n",
    "\n",
    "# Plot rating distribution\n",
    "plt.figure(figsize=(8, 5))\n",
    "sns.countplot(data=data, x='Rating', palette='coolwarm')\n",
    "plt.title('Rating Distribution')\n",
    "plt.show()\n",
    "\n",
    "# Barplot: Sentiment distribution by Channel\n",
    "plt.figure(figsize=(8, 5))\n",
    "sns.countplot(data=data, x='Channel', hue='Sentiment', palette='Set2')\n",
    "plt.title('Sentiment Distribution by Channel')\n",
    "plt.show()\n",
    "\n",
    "# Histogram: Age distribution\n",
    "plt.figure(figsize=(8, 5))\n",
    "sns.histplot(data['Customer Age'], bins=20, kde=True)\n",
    "plt.title('Customer Age Distribution')\n",
    "plt.show()\n",
    "\n",
    "# Boxplot: Age vs. Rating\n",
    "plt.figure(figsize=(8, 5))\n",
    "sns.boxplot(data=data, x='Rating', y='Customer Age', palette='Blues')\n",
    "plt.title('Customer Age vs. Rating')\n",
    "plt.show()\n"
   ]
  },
  {
   "cell_type": "markdown",
   "id": "02ae071c-d5ef-4299-874a-bc7bee15deb3",
   "metadata": {},
   "source": [
    "### Word Clouds for Sentiment Analysis"
   ]
  },
  {
   "cell_type": "code",
   "execution_count": 16,
   "id": "09b9b3d3-334b-40f9-89f8-5d58e182ffc3",
   "metadata": {},
   "outputs": [],
   "source": [
    "data = data[data['Sentiment'].isin(['Positive','Negative'])]"
   ]
  },
  {
   "cell_type": "markdown",
   "id": "ea7a25dc-00be-44c8-a15f-27e3f5483de6",
   "metadata": {},
   "source": [
    "### Sentiment Analysis by Segment"
   ]
  },
  {
   "cell_type": "code",
   "execution_count": 17,
   "id": "70fd1d78-2b55-48cd-bcf8-43f2a8c7b401",
   "metadata": {},
   "outputs": [
    {
     "name": "stderr",
     "output_type": "stream",
     "text": [
      "C:\\Users\\hp\\anaconda3\\Lib\\site-packages\\seaborn\\categorical.py:641: FutureWarning: The default of observed=False is deprecated and will be changed to True in a future version of pandas. Pass observed=False to retain current behavior or observed=True to adopt the future default and silence this warning.\n",
      "  grouped_vals = vals.groupby(grouper)\n",
      "C:\\Users\\hp\\anaconda3\\Lib\\site-packages\\seaborn\\categorical.py:641: FutureWarning: The default of observed=False is deprecated and will be changed to True in a future version of pandas. Pass observed=False to retain current behavior or observed=True to adopt the future default and silence this warning.\n",
      "  grouped_vals = vals.groupby(grouper)\n"
     ]
    },
    {
     "data": {
      "image/png": "[encoded data removed]",
      "text/plain": [
       "<Figure size 1200x600 with 1 Axes>"
      ]
     },
     "metadata": {},
     "output_type": "display_data"
    },
    {
     "name": "stderr",
     "output_type": "stream",
     "text": [
      "C:\\Users\\hp\\anaconda3\\Lib\\site-packages\\seaborn\\categorical.py:641: FutureWarning: The default of observed=False is deprecated and will be changed to True in a future version of pandas. Pass observed=False to retain current behavior or observed=True to adopt the future default and silence this warning.\n",
      "  grouped_vals = vals.groupby(grouper)\n",
      "C:\\Users\\hp\\anaconda3\\Lib\\site-packages\\seaborn\\categorical.py:641: FutureWarning: The default of observed=False is deprecated and will be changed to True in a future version of pandas. Pass observed=False to retain current behavior or observed=True to adopt the future default and silence this warning.\n",
      "  grouped_vals = vals.groupby(grouper)\n"
     ]
    },
    {
     "data": {
      "image/png": "[encoded data removed]",
      "text/plain": [
       "<Figure size 1200x600 with 1 Axes>"
      ]
     },
     "metadata": {},
     "output_type": "display_data"
    }
   ],
   "source": [
    "# Sentiment distribution by Category and Subcategory\n",
    "plt.figure(figsize=(12, 6))\n",
    "sns.countplot(data=data, x='Category', hue='Sentiment', palette='muted')\n",
    "plt.title('Sentiment by Product Category')\n",
    "plt.xticks(rotation=45)\n",
    "plt.show()\n",
    "\n",
    "# Sentiment by Location\n",
    "top_locations = data['Location'].value_counts().head(10).index\n",
    "location_sentiment = data[data['Location'].isin(top_locations)]\n",
    "\n",
    "plt.figure(figsize=(12, 6))\n",
    "sns.countplot(data=location_sentiment, x='Location', hue='Sentiment', palette='Paired')\n",
    "plt.title('Sentiment by Location (Top 10 Locations)')\n",
    "plt.xticks(rotation=45)\n",
    "plt.show()\n"
   ]
  },
  {
   "cell_type": "code",
   "execution_count": 18,
   "id": "b53c4714-bd2c-4af1-a710-0eb20b286137",
   "metadata": {},
   "outputs": [
    {
     "data": {
      "text/html": [
       "<div>\n",
       "<style scoped>\n",
       "    .dataframe tbody tr th:only-of-type {\n",
       "        vertical-align: middle;\n",
       "    }\n",
       "\n",
       "    .dataframe tbody tr th {\n",
       "        vertical-align: top;\n",
       "    }\n",
       "\n",
       "    .dataframe thead th {\n",
       "        text-align: right;\n",
       "    }\n",
       "</style>\n",
       "<table border=\"1\" class=\"dataframe\">\n",
       "  <thead>\n",
       "    <tr style=\"text-align: right;\">\n",
       "      <th></th>\n",
       "      <th>Product ID</th>\n",
       "      <th>Category</th>\n",
       "      <th>Subcategory1</th>\n",
       "      <th>SubCategory2</th>\n",
       "      <th>Location</th>\n",
       "      <th>Channel</th>\n",
       "      <th>Customer Age</th>\n",
       "      <th>Review Title</th>\n",
       "      <th>Review Text</th>\n",
       "      <th>Rating</th>\n",
       "      <th>Recommend Flag</th>\n",
       "      <th>Sentiment</th>\n",
       "    </tr>\n",
       "  </thead>\n",
       "  <tbody>\n",
       "    <tr>\n",
       "      <th>2</th>\n",
       "      <td>1077</td>\n",
       "      <td>General</td>\n",
       "      <td>Dresses</td>\n",
       "      <td>Dresses</td>\n",
       "      <td>Gurgaon</td>\n",
       "      <td>Mobile</td>\n",
       "      <td>60</td>\n",
       "      <td>Some major design flaws</td>\n",
       "      <td>I had such high hopes for this dress and reall...</td>\n",
       "      <td>3</td>\n",
       "      <td>0</td>\n",
       "      <td>Negative</td>\n",
       "    </tr>\n",
       "  </tbody>\n",
       "</table>\n",
       "</div>"
      ],
      "text/plain": [
       "   Product ID Category Subcategory1 SubCategory2 Location Channel  \\\n",
       "2        1077  General      Dresses      Dresses  Gurgaon  Mobile   \n",
       "\n",
       "   Customer Age             Review Title  \\\n",
       "2            60  Some major design flaws   \n",
       "\n",
       "                                         Review Text  Rating  Recommend Flag  \\\n",
       "2  I had such high hopes for this dress and reall...       3               0   \n",
       "\n",
       "  Sentiment  \n",
       "2  Negative  "
      ]
     },
     "execution_count": 18,
     "metadata": {},
     "output_type": "execute_result"
    }
   ],
   "source": [
    "data.head(1)"
   ]
  },
  {
   "cell_type": "code",
   "execution_count": 19,
   "id": "30818763-1f78-47c2-b2b8-378118b61367",
   "metadata": {},
   "outputs": [],
   "source": [
    "data.reset_index(drop=True,inplace=True)"
   ]
  },
  {
   "cell_type": "code",
   "execution_count": 20,
   "id": "5311729e-ec3d-409b-b4a6-5f032bda88d2",
   "metadata": {},
   "outputs": [
    {
     "data": {
      "text/html": [
       "<div>\n",
       "<style scoped>\n",
       "    .dataframe tbody tr th:only-of-type {\n",
       "        vertical-align: middle;\n",
       "    }\n",
       "\n",
       "    .dataframe tbody tr th {\n",
       "        vertical-align: top;\n",
       "    }\n",
       "\n",
       "    .dataframe thead th {\n",
       "        text-align: right;\n",
       "    }\n",
       "</style>\n",
       "<table border=\"1\" class=\"dataframe\">\n",
       "  <thead>\n",
       "    <tr style=\"text-align: right;\">\n",
       "      <th></th>\n",
       "      <th>Product ID</th>\n",
       "      <th>Category</th>\n",
       "      <th>Subcategory1</th>\n",
       "      <th>SubCategory2</th>\n",
       "      <th>Location</th>\n",
       "      <th>Channel</th>\n",
       "      <th>Customer Age</th>\n",
       "      <th>Review Title</th>\n",
       "      <th>Review Text</th>\n",
       "      <th>Rating</th>\n",
       "      <th>Recommend Flag</th>\n",
       "      <th>Sentiment</th>\n",
       "    </tr>\n",
       "  </thead>\n",
       "  <tbody>\n",
       "    <tr>\n",
       "      <th>0</th>\n",
       "      <td>1077</td>\n",
       "      <td>General</td>\n",
       "      <td>Dresses</td>\n",
       "      <td>Dresses</td>\n",
       "      <td>Gurgaon</td>\n",
       "      <td>Mobile</td>\n",
       "      <td>60</td>\n",
       "      <td>Some major design flaws</td>\n",
       "      <td>I had such high hopes for this dress and reall...</td>\n",
       "      <td>3</td>\n",
       "      <td>0</td>\n",
       "      <td>Negative</td>\n",
       "    </tr>\n",
       "  </tbody>\n",
       "</table>\n",
       "</div>"
      ],
      "text/plain": [
       "   Product ID Category Subcategory1 SubCategory2 Location Channel  \\\n",
       "0        1077  General      Dresses      Dresses  Gurgaon  Mobile   \n",
       "\n",
       "   Customer Age             Review Title  \\\n",
       "0            60  Some major design flaws   \n",
       "\n",
       "                                         Review Text  Rating  Recommend Flag  \\\n",
       "0  I had such high hopes for this dress and reall...       3               0   \n",
       "\n",
       "  Sentiment  \n",
       "0  Negative  "
      ]
     },
     "execution_count": 20,
     "metadata": {},
     "output_type": "execute_result"
    }
   ],
   "source": [
    "data.head(1)"
   ]
  },
  {
   "cell_type": "code",
   "execution_count": 21,
   "id": "29471555-c5c9-4d48-9e18-e73cacbd5518",
   "metadata": {},
   "outputs": [
    {
     "data": {
      "text/plain": [
       "(19662, 12)"
      ]
     },
     "execution_count": 21,
     "metadata": {},
     "output_type": "execute_result"
    }
   ],
   "source": [
    "data.shape"
   ]
  },
  {
   "cell_type": "code",
   "execution_count": 22,
   "id": "b56e3406-786c-4807-8eaf-55e7b83f39ea",
   "metadata": {},
   "outputs": [],
   "source": [
    "def convert_lower(text):\n",
    "    text = text.lower()\n",
    "    return text\n",
    "\n",
    "def expand_contractions(text):\n",
    "    text = contractions.fix(text)\n",
    "    return text\n",
    "\n",
    "def remove_special_characters(text):\n",
    "    text = re.sub(r'[^a-zA-Z\\s]','',text)\n",
    "    text = re.sub(r'\\s+',' ',text)\n",
    "    return text \n",
    "\n",
    "def stemming(text):\n",
    "    l = text.split(' ')\n",
    "    text = [ps.stem(w) for w in l]\n",
    "    return ' '.join(text)\n",
    "\n",
    "def lemmatization(text):\n",
    "    text = [ls.lemmatize(w) for w in text.split(' ')]\n",
    "    return ' '.join(text)\n",
    "\n",
    "def stopword_removal(text):\n",
    "    text = [w for w in text.split(' ') if w not in stopwords_l]\n",
    "    return ' '.join(text)\n",
    "\n",
    "def remove_mentions(text):\n",
    "    text = re.sub(r'@\\w+','',text)\n",
    "    text = re.sub(r'[...]',' ',text)\n",
    "    text = re.sub(r'&amp','',text)\n",
    "    \n",
    "    return text"
   ]
  },
  {
   "cell_type": "code",
   "execution_count": 23,
   "id": "c1434934-1598-4cdb-b6b1-2b137667b176",
   "metadata": {},
   "outputs": [],
   "source": [
    "def clean_text(text):\n",
    "    text = convert_lower(text)\n",
    "    \n",
    "    text = expand_contractions(text)\n",
    "    \n",
    "    text = remove_mentions(text)\n",
    "    \n",
    "    text = remove_special_characters(text)\n",
    "    \n",
    "#     text = stemming(text)\n",
    "    \n",
    "    text = stopword_removal(text)\n",
    "    \n",
    "    text = lemmatization(text)\n",
    "    \n",
    "    text = text.strip()\n",
    "    \n",
    "    return text"
   ]
  },
  {
   "cell_type": "code",
   "execution_count": 24,
   "id": "5cdaf6ff-43d2-42de-9458-3702056f1d81",
   "metadata": {},
   "outputs": [],
   "source": [
    "from nltk.stem import PorterStemmer\n",
    "from nltk.stem import WordNetLemmatizer\n",
    "ps = PorterStemmer()\n",
    "ls = WordNetLemmatizer()\n",
    "stopwords_l = nltk.corpus.stopwords.words('english')"
   ]
  },
  {
   "cell_type": "code",
   "execution_count": 25,
   "id": "3909bbe6-7d98-4251-bb09-1553e14f3c9b",
   "metadata": {},
   "outputs": [
    {
     "name": "stderr",
     "output_type": "stream",
     "text": [
      "[nltk_data] Downloading package stopwords to\n",
      "[nltk_data]     C:\\Users\\hp\\AppData\\Roaming\\nltk_data...\n",
      "[nltk_data]   Package stopwords is already up-to-date!\n",
      "[nltk_data] Downloading package wordnet to\n",
      "[nltk_data]     C:\\Users\\hp\\AppData\\Roaming\\nltk_data...\n",
      "[nltk_data]   Package wordnet is already up-to-date!\n"
     ]
    },
    {
     "data": {
      "text/plain": [
       "True"
      ]
     },
     "execution_count": 25,
     "metadata": {},
     "output_type": "execute_result"
    }
   ],
   "source": [
    "import nltk\n",
    "nltk.download('stopwords')\n",
    "import nltk\n",
    "nltk.download('wordnet')"
   ]
  },
  {
   "cell_type": "code",
   "execution_count": 26,
   "id": "562f9ea3-9f8c-4953-bce4-a41ab30c2338",
   "metadata": {},
   "outputs": [],
   "source": [
    "from nltk.corpus import stopwords\n",
    "from wordcloud import WordCloud\n",
    "import contractions"
   ]
  },
  {
   "cell_type": "code",
   "execution_count": 27,
   "id": "aa11ebad-76aa-44cd-85f6-21e32d3f10c7",
   "metadata": {},
   "outputs": [],
   "source": [
    "corpus = data['Review Text'].values[:10]"
   ]
  },
  {
   "cell_type": "code",
   "execution_count": 28,
   "id": "2a9035fb-e1f6-49dd-9513-c770a05f3871",
   "metadata": {},
   "outputs": [],
   "source": [
    "cleaned_corpus =[]\n",
    "for doc in corpus:\n",
    "    cleaned_corpus.append(clean_text(doc))"
   ]
  },
  {
   "cell_type": "code",
   "execution_count": 29,
   "id": "f38d9c32-eda6-46d0-bbbe-d8d3190c8755",
   "metadata": {},
   "outputs": [
    {
     "data": {
      "text/plain": [
       "['I had such high hopes for this dress and real..., 'I love, love, love this jumpsuit. it's fun, f..., 'This shirt is very flattering to all due to t..., 'I love tracy reese dresses, but this one is n..., 'I aded this in my basket at hte last mintue t..., 'I ordered this in carbon for store pick up, a..., 'I love this dress. i usually get an xs but it..., 'I'm 5\"5' and 125 lbs. i ordered the s petite ..., 'Dress runs small esp where the zipper area ru..., 'More and more i find myself reliant on the re...]\n",
       "Categories (19656, object): ['\"does this sweater make my hips look big?\" my..., '\"vegan suede\" makes these sound fancier than ..., '$78 for a pair of sweats seems like a lot of ..., '- this really is lovely. the overall design f..., ..., 'You won't break the bank with this cute tee. ..., 'You would expect anything woolen to be slight..., 'You've probably read through the other review..., 'Yummy, soft material, but very faded looking....]"
      ]
     },
     "execution_count": 29,
     "metadata": {},
     "output_type": "execute_result"
    }
   ],
   "source": [
    "corpus"
   ]
  },
  {
   "cell_type": "code",
   "execution_count": 30,
   "id": "a98fe584-6f33-4a2a-9deb-aaaba69d50e4",
   "metadata": {},
   "outputs": [
    {
     "data": {
      "text/plain": [
       "['high hope dress really wanted work initially ordered petite small usual size found outrageously small small fact could zip reordered petite medium ok overall top half comfortable fit nicely bottom half tight layer several somewhat cheap net layer going major design flaw net layer sewn directly zipper c',\n",
       " 'love love love jumpsuit fun flirty fabulous every time wear get nothing great compliment',\n",
       " 'shirt flattering due adjustable front tie perfect length wear legging sleeveless pair well cardigan love shirt',\n",
       " 'love tracy reese dress one petite foot tall usually wear p brand dress pretty package lot dress skirt long full overwhelmed small frame stranger alteration shortening narrowing skirt would take away embellishment garment love color idea style work returned dress',\n",
       " 'aded basket hte last mintue see would look like person store pick went teh darkler color pale hte color really gorgeous turn mathced everythiing trying prefectly little baggy hte x hte msallet size bummer petite decided jkeep though said matvehd everything ejans pant skirt waas trying kept oops',\n",
       " 'ordered carbon store pick ton stuff always try used top pair skirt pant everything went color really nice charcoal shimmer went well pencil skirt flare pant etc compaint bit big sleeve long go petite also bit loose xx kept wil ldecide later since light color already sold hte smallest size',\n",
       " 'love dress usually get x run little snug bust ordered size flattering feminine usual retailer flair style',\n",
       " 'lb ordered petite make sure length long typically wear x regular retailer dress le busty b cup smaller petite fit perfectly snug tight love could dress party work love tulle longer fabric underneath',\n",
       " 'dress run small esp zipper area run ordered sp typically fit tight material top look feel cheap even pulling cause rip fabric pretty disappointed going christmas dress year needle say going back',\n",
       " 'find reliant review written savvy shopper past right estimation product case dressif reveiwsi doubt would even tried dress beautifully made lined reminiscent old retailer quality lined solid periwinklecolored fabric match outer fabric print tt formfitting fall knee rid']"
      ]
     },
     "execution_count": 30,
     "metadata": {},
     "output_type": "execute_result"
    }
   ],
   "source": [
    "cleaned_corpus"
   ]
  },
  {
   "cell_type": "code",
   "execution_count": 31,
   "id": "59d07c78-4a88-40ed-9537-64a04e2062ad",
   "metadata": {},
   "outputs": [],
   "source": [
    "data['clean_text'] = data['Review Text'].apply(lambda x:clean_text(x))"
   ]
  },
  {
   "cell_type": "code",
   "execution_count": 32,
   "id": "c15c2aa3-1624-4260-b73a-9a4f5758bd68",
   "metadata": {},
   "outputs": [
    {
     "data": {
      "text/html": [
       "<div>\n",
       "<style scoped>\n",
       "    .dataframe tbody tr th:only-of-type {\n",
       "        vertical-align: middle;\n",
       "    }\n",
       "\n",
       "    .dataframe tbody tr th {\n",
       "        vertical-align: top;\n",
       "    }\n",
       "\n",
       "    .dataframe thead th {\n",
       "        text-align: right;\n",
       "    }\n",
       "</style>\n",
       "<table border=\"1\" class=\"dataframe\">\n",
       "  <thead>\n",
       "    <tr style=\"text-align: right;\">\n",
       "      <th></th>\n",
       "      <th>Product ID</th>\n",
       "      <th>Category</th>\n",
       "      <th>Subcategory1</th>\n",
       "      <th>SubCategory2</th>\n",
       "      <th>Location</th>\n",
       "      <th>Channel</th>\n",
       "      <th>Customer Age</th>\n",
       "      <th>Review Title</th>\n",
       "      <th>Review Text</th>\n",
       "      <th>Rating</th>\n",
       "      <th>Recommend Flag</th>\n",
       "      <th>Sentiment</th>\n",
       "      <th>clean_text</th>\n",
       "    </tr>\n",
       "  </thead>\n",
       "  <tbody>\n",
       "    <tr>\n",
       "      <th>0</th>\n",
       "      <td>1077</td>\n",
       "      <td>General</td>\n",
       "      <td>Dresses</td>\n",
       "      <td>Dresses</td>\n",
       "      <td>Gurgaon</td>\n",
       "      <td>Mobile</td>\n",
       "      <td>60</td>\n",
       "      <td>Some major design flaws</td>\n",
       "      <td>I had such high hopes for this dress and reall...</td>\n",
       "      <td>3</td>\n",
       "      <td>0</td>\n",
       "      <td>Negative</td>\n",
       "      <td>high hope dress really wanted work initially o...</td>\n",
       "    </tr>\n",
       "    <tr>\n",
       "      <th>1</th>\n",
       "      <td>1049</td>\n",
       "      <td>General Petite</td>\n",
       "      <td>Bottoms</td>\n",
       "      <td>Pants</td>\n",
       "      <td>Chennai</td>\n",
       "      <td>Web</td>\n",
       "      <td>50</td>\n",
       "      <td>My favorite buy!</td>\n",
       "      <td>I love, love, love this jumpsuit. it's fun, fl...</td>\n",
       "      <td>5</td>\n",
       "      <td>1</td>\n",
       "      <td>Positive</td>\n",
       "      <td>love love love jumpsuit fun flirty fabulous ev...</td>\n",
       "    </tr>\n",
       "    <tr>\n",
       "      <th>2</th>\n",
       "      <td>847</td>\n",
       "      <td>General</td>\n",
       "      <td>Tops</td>\n",
       "      <td>Blouses</td>\n",
       "      <td>Bangalore</td>\n",
       "      <td>Web</td>\n",
       "      <td>47</td>\n",
       "      <td>Flattering shirt</td>\n",
       "      <td>This shirt is very flattering to all due to th...</td>\n",
       "      <td>5</td>\n",
       "      <td>1</td>\n",
       "      <td>Positive</td>\n",
       "      <td>shirt flattering due adjustable front tie perf...</td>\n",
       "    </tr>\n",
       "    <tr>\n",
       "      <th>3</th>\n",
       "      <td>1080</td>\n",
       "      <td>General</td>\n",
       "      <td>Dresses</td>\n",
       "      <td>Dresses</td>\n",
       "      <td>Gurgaon</td>\n",
       "      <td>Web</td>\n",
       "      <td>49</td>\n",
       "      <td>Not for the very petite</td>\n",
       "      <td>I love tracy reese dresses, but this one is no...</td>\n",
       "      <td>2</td>\n",
       "      <td>0</td>\n",
       "      <td>Negative</td>\n",
       "      <td>love tracy reese dress one petite foot tall us...</td>\n",
       "    </tr>\n",
       "    <tr>\n",
       "      <th>4</th>\n",
       "      <td>858</td>\n",
       "      <td>General Petite</td>\n",
       "      <td>Tops</td>\n",
       "      <td>Knits</td>\n",
       "      <td>Gurgaon</td>\n",
       "      <td>Mobile</td>\n",
       "      <td>39</td>\n",
       "      <td>Cagrcoal shimmer fun</td>\n",
       "      <td>I aded this in my basket at hte last mintue to...</td>\n",
       "      <td>5</td>\n",
       "      <td>1</td>\n",
       "      <td>Positive</td>\n",
       "      <td>aded basket hte last mintue see would look lik...</td>\n",
       "    </tr>\n",
       "  </tbody>\n",
       "</table>\n",
       "</div>"
      ],
      "text/plain": [
       "   Product ID        Category Subcategory1 SubCategory2   Location Channel  \\\n",
       "0        1077         General      Dresses      Dresses    Gurgaon  Mobile   \n",
       "1        1049  General Petite      Bottoms        Pants    Chennai     Web   \n",
       "2         847         General         Tops      Blouses  Bangalore     Web   \n",
       "3        1080         General      Dresses      Dresses    Gurgaon     Web   \n",
       "4         858  General Petite         Tops        Knits    Gurgaon  Mobile   \n",
       "\n",
       "   Customer Age             Review Title  \\\n",
       "0            60  Some major design flaws   \n",
       "1            50         My favorite buy!   \n",
       "2            47         Flattering shirt   \n",
       "3            49  Not for the very petite   \n",
       "4            39     Cagrcoal shimmer fun   \n",
       "\n",
       "                                         Review Text  Rating  Recommend Flag  \\\n",
       "0  I had such high hopes for this dress and reall...       3               0   \n",
       "1  I love, love, love this jumpsuit. it's fun, fl...       5               1   \n",
       "2  This shirt is very flattering to all due to th...       5               1   \n",
       "3  I love tracy reese dresses, but this one is no...       2               0   \n",
       "4  I aded this in my basket at hte last mintue to...       5               1   \n",
       "\n",
       "  Sentiment                                         clean_text  \n",
       "0  Negative  high hope dress really wanted work initially o...  \n",
       "1  Positive  love love love jumpsuit fun flirty fabulous ev...  \n",
       "2  Positive  shirt flattering due adjustable front tie perf...  \n",
       "3  Negative  love tracy reese dress one petite foot tall us...  \n",
       "4  Positive  aded basket hte last mintue see would look lik...  "
      ]
     },
     "execution_count": 32,
     "metadata": {},
     "output_type": "execute_result"
    }
   ],
   "source": [
    "data.head()"
   ]
  },
  {
   "cell_type": "code",
   "execution_count": 33,
   "id": "df16b445-c74c-4b8d-9495-ecccfd78c3e8",
   "metadata": {},
   "outputs": [
    {
     "name": "stdout",
     "output_type": "stream",
     "text": [
      "<class 'pandas.core.frame.DataFrame'>\n",
      "RangeIndex: 19662 entries, 0 to 19661\n",
      "Data columns (total 13 columns):\n",
      " #   Column          Non-Null Count  Dtype   \n",
      "---  ------          --------------  -----   \n",
      " 0   Product ID      19662 non-null  int64   \n",
      " 1   Category        19662 non-null  category\n",
      " 2   Subcategory1    19662 non-null  category\n",
      " 3   SubCategory2    19662 non-null  category\n",
      " 4   Location        19662 non-null  category\n",
      " 5   Channel         19662 non-null  category\n",
      " 6   Customer Age    19662 non-null  int64   \n",
      " 7   Review Title    19662 non-null  category\n",
      " 8   Review Text     19662 non-null  category\n",
      " 9   Rating          19662 non-null  int64   \n",
      " 10  Recommend Flag  19662 non-null  int64   \n",
      " 11  Sentiment       19662 non-null  object  \n",
      " 12  clean_text      19662 non-null  object  \n",
      "dtypes: category(7), int64(4), object(2)\n",
      "memory usage: 2.3+ MB\n"
     ]
    }
   ],
   "source": [
    "data.info()"
   ]
  },
  {
   "cell_type": "code",
   "execution_count": 34,
   "id": "7677dbb1-5202-47f0-a28d-04fc63ff51f3",
   "metadata": {},
   "outputs": [
    {
     "data": {
      "text/plain": [
       "Product ID        0\n",
       "Category          0\n",
       "Subcategory1      0\n",
       "SubCategory2      0\n",
       "Location          0\n",
       "Channel           0\n",
       "Customer Age      0\n",
       "Review Title      0\n",
       "Review Text       0\n",
       "Rating            0\n",
       "Recommend Flag    0\n",
       "Sentiment         0\n",
       "clean_text        0\n",
       "dtype: int64"
      ]
     },
     "execution_count": 34,
     "metadata": {},
     "output_type": "execute_result"
    }
   ],
   "source": [
    "data.isnull().sum()"
   ]
  },
  {
   "cell_type": "code",
   "execution_count": 35,
   "id": "4675c05c-e8ce-41f2-8488-3ada66355616",
   "metadata": {},
   "outputs": [
    {
     "data": {
      "text/html": [
       "<div>\n",
       "<style scoped>\n",
       "    .dataframe tbody tr th:only-of-type {\n",
       "        vertical-align: middle;\n",
       "    }\n",
       "\n",
       "    .dataframe tbody tr th {\n",
       "        vertical-align: top;\n",
       "    }\n",
       "\n",
       "    .dataframe thead th {\n",
       "        text-align: right;\n",
       "    }\n",
       "</style>\n",
       "<table border=\"1\" class=\"dataframe\">\n",
       "  <thead>\n",
       "    <tr style=\"text-align: right;\">\n",
       "      <th></th>\n",
       "      <th>Product ID</th>\n",
       "      <th>Category</th>\n",
       "      <th>Subcategory1</th>\n",
       "      <th>SubCategory2</th>\n",
       "      <th>Location</th>\n",
       "      <th>Channel</th>\n",
       "      <th>Customer Age</th>\n",
       "      <th>Review Title</th>\n",
       "      <th>Review Text</th>\n",
       "      <th>Rating</th>\n",
       "      <th>Recommend Flag</th>\n",
       "      <th>Sentiment</th>\n",
       "      <th>clean_text</th>\n",
       "    </tr>\n",
       "  </thead>\n",
       "  <tbody>\n",
       "  </tbody>\n",
       "</table>\n",
       "</div>"
      ],
      "text/plain": [
       "Empty DataFrame\n",
       "Columns: [Product ID, Category, Subcategory1, SubCategory2, Location, Channel, Customer Age, Review Title, Review Text, Rating, Recommend Flag, Sentiment, clean_text]\n",
       "Index: []"
      ]
     },
     "execution_count": 35,
     "metadata": {},
     "output_type": "execute_result"
    }
   ],
   "source": [
    "data[data['clean_text']=='']"
   ]
  },
  {
   "cell_type": "code",
   "execution_count": 36,
   "id": "60b25d7d-5432-4337-98f9-78e82835fa84",
   "metadata": {},
   "outputs": [],
   "source": [
    "data = data[data['clean_text']!='']\n",
    "data.reset_index(drop=True,inplace=True)"
   ]
  },
  {
   "cell_type": "code",
   "execution_count": 37,
   "id": "59e9a6fa-e27f-4780-ada3-ba9ad701a7d2",
   "metadata": {},
   "outputs": [
    {
     "data": {
      "text/html": [
       "<div>\n",
       "<style scoped>\n",
       "    .dataframe tbody tr th:only-of-type {\n",
       "        vertical-align: middle;\n",
       "    }\n",
       "\n",
       "    .dataframe tbody tr th {\n",
       "        vertical-align: top;\n",
       "    }\n",
       "\n",
       "    .dataframe thead th {\n",
       "        text-align: right;\n",
       "    }\n",
       "</style>\n",
       "<table border=\"1\" class=\"dataframe\">\n",
       "  <thead>\n",
       "    <tr style=\"text-align: right;\">\n",
       "      <th></th>\n",
       "      <th>Product ID</th>\n",
       "      <th>Category</th>\n",
       "      <th>Subcategory1</th>\n",
       "      <th>SubCategory2</th>\n",
       "      <th>Location</th>\n",
       "      <th>Channel</th>\n",
       "      <th>Customer Age</th>\n",
       "      <th>Review Title</th>\n",
       "      <th>Review Text</th>\n",
       "      <th>Rating</th>\n",
       "      <th>Recommend Flag</th>\n",
       "      <th>Sentiment</th>\n",
       "      <th>clean_text</th>\n",
       "    </tr>\n",
       "  </thead>\n",
       "  <tbody>\n",
       "    <tr>\n",
       "      <th>0</th>\n",
       "      <td>1077</td>\n",
       "      <td>General</td>\n",
       "      <td>Dresses</td>\n",
       "      <td>Dresses</td>\n",
       "      <td>Gurgaon</td>\n",
       "      <td>Mobile</td>\n",
       "      <td>60</td>\n",
       "      <td>Some major design flaws</td>\n",
       "      <td>I had such high hopes for this dress and reall...</td>\n",
       "      <td>3</td>\n",
       "      <td>0</td>\n",
       "      <td>Negative</td>\n",
       "      <td>high hope dress really wanted work initially o...</td>\n",
       "    </tr>\n",
       "    <tr>\n",
       "      <th>1</th>\n",
       "      <td>1049</td>\n",
       "      <td>General Petite</td>\n",
       "      <td>Bottoms</td>\n",
       "      <td>Pants</td>\n",
       "      <td>Chennai</td>\n",
       "      <td>Web</td>\n",
       "      <td>50</td>\n",
       "      <td>My favorite buy!</td>\n",
       "      <td>I love, love, love this jumpsuit. it's fun, fl...</td>\n",
       "      <td>5</td>\n",
       "      <td>1</td>\n",
       "      <td>Positive</td>\n",
       "      <td>love love love jumpsuit fun flirty fabulous ev...</td>\n",
       "    </tr>\n",
       "    <tr>\n",
       "      <th>2</th>\n",
       "      <td>847</td>\n",
       "      <td>General</td>\n",
       "      <td>Tops</td>\n",
       "      <td>Blouses</td>\n",
       "      <td>Bangalore</td>\n",
       "      <td>Web</td>\n",
       "      <td>47</td>\n",
       "      <td>Flattering shirt</td>\n",
       "      <td>This shirt is very flattering to all due to th...</td>\n",
       "      <td>5</td>\n",
       "      <td>1</td>\n",
       "      <td>Positive</td>\n",
       "      <td>shirt flattering due adjustable front tie perf...</td>\n",
       "    </tr>\n",
       "    <tr>\n",
       "      <th>3</th>\n",
       "      <td>1080</td>\n",
       "      <td>General</td>\n",
       "      <td>Dresses</td>\n",
       "      <td>Dresses</td>\n",
       "      <td>Gurgaon</td>\n",
       "      <td>Web</td>\n",
       "      <td>49</td>\n",
       "      <td>Not for the very petite</td>\n",
       "      <td>I love tracy reese dresses, but this one is no...</td>\n",
       "      <td>2</td>\n",
       "      <td>0</td>\n",
       "      <td>Negative</td>\n",
       "      <td>love tracy reese dress one petite foot tall us...</td>\n",
       "    </tr>\n",
       "    <tr>\n",
       "      <th>4</th>\n",
       "      <td>858</td>\n",
       "      <td>General Petite</td>\n",
       "      <td>Tops</td>\n",
       "      <td>Knits</td>\n",
       "      <td>Gurgaon</td>\n",
       "      <td>Mobile</td>\n",
       "      <td>39</td>\n",
       "      <td>Cagrcoal shimmer fun</td>\n",
       "      <td>I aded this in my basket at hte last mintue to...</td>\n",
       "      <td>5</td>\n",
       "      <td>1</td>\n",
       "      <td>Positive</td>\n",
       "      <td>aded basket hte last mintue see would look lik...</td>\n",
       "    </tr>\n",
       "  </tbody>\n",
       "</table>\n",
       "</div>"
      ],
      "text/plain": [
       "   Product ID        Category Subcategory1 SubCategory2   Location Channel  \\\n",
       "0        1077         General      Dresses      Dresses    Gurgaon  Mobile   \n",
       "1        1049  General Petite      Bottoms        Pants    Chennai     Web   \n",
       "2         847         General         Tops      Blouses  Bangalore     Web   \n",
       "3        1080         General      Dresses      Dresses    Gurgaon     Web   \n",
       "4         858  General Petite         Tops        Knits    Gurgaon  Mobile   \n",
       "\n",
       "   Customer Age             Review Title  \\\n",
       "0            60  Some major design flaws   \n",
       "1            50         My favorite buy!   \n",
       "2            47         Flattering shirt   \n",
       "3            49  Not for the very petite   \n",
       "4            39     Cagrcoal shimmer fun   \n",
       "\n",
       "                                         Review Text  Rating  Recommend Flag  \\\n",
       "0  I had such high hopes for this dress and reall...       3               0   \n",
       "1  I love, love, love this jumpsuit. it's fun, fl...       5               1   \n",
       "2  This shirt is very flattering to all due to th...       5               1   \n",
       "3  I love tracy reese dresses, but this one is no...       2               0   \n",
       "4  I aded this in my basket at hte last mintue to...       5               1   \n",
       "\n",
       "  Sentiment                                         clean_text  \n",
       "0  Negative  high hope dress really wanted work initially o...  \n",
       "1  Positive  love love love jumpsuit fun flirty fabulous ev...  \n",
       "2  Positive  shirt flattering due adjustable front tie perf...  \n",
       "3  Negative  love tracy reese dress one petite foot tall us...  \n",
       "4  Positive  aded basket hte last mintue see would look lik...  "
      ]
     },
     "execution_count": 37,
     "metadata": {},
     "output_type": "execute_result"
    }
   ],
   "source": [
    "data.head()"
   ]
  },
  {
   "cell_type": "code",
   "execution_count": 38,
   "id": "db969e5a-709a-45cc-8fa0-225a5b20eae7",
   "metadata": {},
   "outputs": [
    {
     "data": {
      "text/plain": [
       "(19662, 13)"
      ]
     },
     "execution_count": 38,
     "metadata": {},
     "output_type": "execute_result"
    }
   ],
   "source": [
    "data.shape"
   ]
  },
  {
   "cell_type": "code",
   "execution_count": 39,
   "id": "951ec93b-a185-4f78-ba97-cf7c94010b0a",
   "metadata": {},
   "outputs": [],
   "source": [
    "data.to_csv('sentiment_clean_data.csv',index=False)"
   ]
  },
  {
   "cell_type": "markdown",
   "id": "5ae4af1c-3d81-4c44-87b2-7474c8c7e77d",
   "metadata": {},
   "source": [
    "### Topic Modeling with LDA"
   ]
  },
  {
   "cell_type": "code",
   "execution_count": 40,
   "id": "f057ed86-3387-459c-8d2b-98303a5ff780",
   "metadata": {},
   "outputs": [
    {
     "name": "stdout",
     "output_type": "stream",
     "text": [
      "Topic 1:  ['just', 'medium', 'large', 'like', 'petite', 'xs', 'ordered', 'fit', 'small', 'size']\n",
      "Topic 2:  ['fabric', 'comfortable', 'flattering', 'just', 'like', 'great', 'perfect', 'wear', 'love', 'dress']\n",
      "Topic 3:  ['perfect', 'fit', 'soft', 'pants', 'sweater', 'color', 'wear', 'jeans', 'great', 'love']\n",
      "Topic 4:  ['fit', 'little', 'small', 'cute', 'wear', 'love', 'fabric', 'like', 'shirt', 'size']\n",
      "Topic 5:  ['love', 'just', 'size', 'waist', 'like', 'fit', 'fabric', 'look', '_x000d_', 'dress']\n"
     ]
    }
   ],
   "source": [
    "from sklearn.decomposition import LatentDirichletAllocation\n",
    "from sklearn.feature_extraction.text import CountVectorizer\n",
    "\n",
    "# Convert review text into a document-term matrix\n",
    "vectorizer = CountVectorizer(max_features=5000, stop_words='english')\n",
    "X_dtm = vectorizer.fit_transform(data['Review Text'])\n",
    "\n",
    "# LDA Model\n",
    "lda = LatentDirichletAllocation(n_components=5, random_state=42)\n",
    "lda.fit(X_dtm)\n",
    "\n",
    "# Display topics\n",
    "terms = vectorizer.get_feature_names_out()\n",
    "for i, topic in enumerate(lda.components_):\n",
    "    print(f\"Topic {i+1}: \", [terms[i] for i in topic.argsort()[-10:]])\n"
   ]
  },
  {
   "cell_type": "markdown",
   "id": "3fe4d5ab-e1b4-4a72-8e51-9a3ec2f1efb6",
   "metadata": {},
   "source": [
    "## Word Embeddings¶"
   ]
  },
  {
   "cell_type": "code",
   "execution_count": 41,
   "id": "223f91ec-0358-4166-a27a-58502b79891b",
   "metadata": {},
   "outputs": [],
   "source": [
    "from sklearn.feature_extraction.text import CountVectorizer,TfidfVectorizer"
   ]
  },
  {
   "cell_type": "code",
   "execution_count": 42,
   "id": "15409718-50b1-405f-a0d1-c98f90b7fd84",
   "metadata": {},
   "outputs": [],
   "source": [
    "cnt = CountVectorizer(min_df=2)\n",
    "tfidf = TfidfVectorizer(min_df=2)\n"
   ]
  },
  {
   "cell_type": "code",
   "execution_count": 43,
   "id": "f4c278c7-5520-4eb7-adeb-5f6aa2a78a4b",
   "metadata": {},
   "outputs": [],
   "source": [
    "corpus = data['clean_text'].values"
   ]
  },
  {
   "cell_type": "code",
   "execution_count": 44,
   "id": "afae6b7b-b603-496a-8d7c-246557c44b1e",
   "metadata": {},
   "outputs": [
    {
     "data": {
      "text/plain": [
       "array(['high hope dress really wanted work initially ordered petite small usual size found outrageously small small fact could zip reordered petite medium ok overall top half comfortable fit nicely bottom half tight layer several somewhat cheap net layer going major design flaw net layer sewn directly zipper c',\n",
       "       'love love love jumpsuit fun flirty fabulous every time wear get nothing great compliment',\n",
       "       'shirt flattering due adjustable front tie perfect length wear legging sleeveless pair well cardigan love shirt',\n",
       "       'love tracy reese dress one petite foot tall usually wear p brand dress pretty package lot dress skirt long full overwhelmed small frame stranger alteration shortening narrowing skirt would take away embellishment garment love color idea style work returned dress'],\n",
       "      dtype=object)"
      ]
     },
     "execution_count": 44,
     "metadata": {},
     "output_type": "execute_result"
    }
   ],
   "source": [
    "corpus[:4]"
   ]
  },
  {
   "cell_type": "code",
   "execution_count": 45,
   "id": "2f4f48e3-9d2c-4da7-8240-560df753acfe",
   "metadata": {},
   "outputs": [],
   "source": [
    "cnt_df = cnt.fit_transform(corpus)\n",
    "tfidf_df = tfidf.fit_transform(corpus)"
   ]
  },
  {
   "cell_type": "code",
   "execution_count": 46,
   "id": "336e916a-3492-4199-b5fe-f572f03da31a",
   "metadata": {},
   "outputs": [
    {
     "data": {
      "text/html": [
       "<div>\n",
       "<style scoped>\n",
       "    .dataframe tbody tr th:only-of-type {\n",
       "        vertical-align: middle;\n",
       "    }\n",
       "\n",
       "    .dataframe tbody tr th {\n",
       "        vertical-align: top;\n",
       "    }\n",
       "\n",
       "    .dataframe thead th {\n",
       "        text-align: right;\n",
       "    }\n",
       "</style>\n",
       "<table border=\"1\" class=\"dataframe\">\n",
       "  <thead>\n",
       "    <tr style=\"text-align: right;\">\n",
       "      <th></th>\n",
       "      <th>aa</th>\n",
       "      <th>ab</th>\n",
       "      <th>abbey</th>\n",
       "      <th>abby</th>\n",
       "      <th>abdomen</th>\n",
       "      <th>ability</th>\n",
       "      <th>able</th>\n",
       "      <th>abnormally</th>\n",
       "      <th>abo</th>\n",
       "      <th>abou</th>\n",
       "      <th>...</th>\n",
       "      <th>zero</th>\n",
       "      <th>zig</th>\n",
       "      <th>zigzag</th>\n",
       "      <th>zip</th>\n",
       "      <th>zipped</th>\n",
       "      <th>zipper</th>\n",
       "      <th>zippered</th>\n",
       "      <th>zipping</th>\n",
       "      <th>zone</th>\n",
       "      <th>zoom</th>\n",
       "    </tr>\n",
       "  </thead>\n",
       "  <tbody>\n",
       "    <tr>\n",
       "      <th>0</th>\n",
       "      <td>0</td>\n",
       "      <td>0</td>\n",
       "      <td>0</td>\n",
       "      <td>0</td>\n",
       "      <td>0</td>\n",
       "      <td>0</td>\n",
       "      <td>0</td>\n",
       "      <td>0</td>\n",
       "      <td>0</td>\n",
       "      <td>0</td>\n",
       "      <td>...</td>\n",
       "      <td>0</td>\n",
       "      <td>0</td>\n",
       "      <td>0</td>\n",
       "      <td>1</td>\n",
       "      <td>0</td>\n",
       "      <td>1</td>\n",
       "      <td>0</td>\n",
       "      <td>0</td>\n",
       "      <td>0</td>\n",
       "      <td>0</td>\n",
       "    </tr>\n",
       "    <tr>\n",
       "      <th>1</th>\n",
       "      <td>0</td>\n",
       "      <td>0</td>\n",
       "      <td>0</td>\n",
       "      <td>0</td>\n",
       "      <td>0</td>\n",
       "      <td>0</td>\n",
       "      <td>0</td>\n",
       "      <td>0</td>\n",
       "      <td>0</td>\n",
       "      <td>0</td>\n",
       "      <td>...</td>\n",
       "      <td>0</td>\n",
       "      <td>0</td>\n",
       "      <td>0</td>\n",
       "      <td>0</td>\n",
       "      <td>0</td>\n",
       "      <td>0</td>\n",
       "      <td>0</td>\n",
       "      <td>0</td>\n",
       "      <td>0</td>\n",
       "      <td>0</td>\n",
       "    </tr>\n",
       "    <tr>\n",
       "      <th>2</th>\n",
       "      <td>0</td>\n",
       "      <td>0</td>\n",
       "      <td>0</td>\n",
       "      <td>0</td>\n",
       "      <td>0</td>\n",
       "      <td>0</td>\n",
       "      <td>0</td>\n",
       "      <td>0</td>\n",
       "      <td>0</td>\n",
       "      <td>0</td>\n",
       "      <td>...</td>\n",
       "      <td>0</td>\n",
       "      <td>0</td>\n",
       "      <td>0</td>\n",
       "      <td>0</td>\n",
       "      <td>0</td>\n",
       "      <td>0</td>\n",
       "      <td>0</td>\n",
       "      <td>0</td>\n",
       "      <td>0</td>\n",
       "      <td>0</td>\n",
       "    </tr>\n",
       "    <tr>\n",
       "      <th>3</th>\n",
       "      <td>0</td>\n",
       "      <td>0</td>\n",
       "      <td>0</td>\n",
       "      <td>0</td>\n",
       "      <td>0</td>\n",
       "      <td>0</td>\n",
       "      <td>0</td>\n",
       "      <td>0</td>\n",
       "      <td>0</td>\n",
       "      <td>0</td>\n",
       "      <td>...</td>\n",
       "      <td>0</td>\n",
       "      <td>0</td>\n",
       "      <td>0</td>\n",
       "      <td>0</td>\n",
       "      <td>0</td>\n",
       "      <td>0</td>\n",
       "      <td>0</td>\n",
       "      <td>0</td>\n",
       "      <td>0</td>\n",
       "      <td>0</td>\n",
       "    </tr>\n",
       "    <tr>\n",
       "      <th>4</th>\n",
       "      <td>0</td>\n",
       "      <td>0</td>\n",
       "      <td>0</td>\n",
       "      <td>0</td>\n",
       "      <td>0</td>\n",
       "      <td>0</td>\n",
       "      <td>0</td>\n",
       "      <td>0</td>\n",
       "      <td>0</td>\n",
       "      <td>0</td>\n",
       "      <td>...</td>\n",
       "      <td>0</td>\n",
       "      <td>0</td>\n",
       "      <td>0</td>\n",
       "      <td>0</td>\n",
       "      <td>0</td>\n",
       "      <td>0</td>\n",
       "      <td>0</td>\n",
       "      <td>0</td>\n",
       "      <td>0</td>\n",
       "      <td>0</td>\n",
       "    </tr>\n",
       "  </tbody>\n",
       "</table>\n",
       "<p>5 rows × 7197 columns</p>\n",
       "</div>"
      ],
      "text/plain": [
       "   aa  ab  abbey  abby  abdomen  ability  able  abnormally  abo  abou  ...  \\\n",
       "0   0   0      0     0        0        0     0           0    0     0  ...   \n",
       "1   0   0      0     0        0        0     0           0    0     0  ...   \n",
       "2   0   0      0     0        0        0     0           0    0     0  ...   \n",
       "3   0   0      0     0        0        0     0           0    0     0  ...   \n",
       "4   0   0      0     0        0        0     0           0    0     0  ...   \n",
       "\n",
       "   zero  zig  zigzag  zip  zipped  zipper  zippered  zipping  zone  zoom  \n",
       "0     0    0       0    1       0       1         0        0     0     0  \n",
       "1     0    0       0    0       0       0         0        0     0     0  \n",
       "2     0    0       0    0       0       0         0        0     0     0  \n",
       "3     0    0       0    0       0       0         0        0     0     0  \n",
       "4     0    0       0    0       0       0         0        0     0     0  \n",
       "\n",
       "[5 rows x 7197 columns]"
      ]
     },
     "execution_count": 46,
     "metadata": {},
     "output_type": "execute_result"
    }
   ],
   "source": [
    "count_df = pd.DataFrame(cnt_df.toarray(),columns=sorted(cnt.vocabulary_.keys()))\n",
    "count_df.head()"
   ]
  },
  {
   "cell_type": "code",
   "execution_count": 47,
   "id": "641365b9-9b5a-4d13-879d-5dc6af942106",
   "metadata": {},
   "outputs": [
    {
     "data": {
      "text/html": [
       "<div>\n",
       "<style scoped>\n",
       "    .dataframe tbody tr th:only-of-type {\n",
       "        vertical-align: middle;\n",
       "    }\n",
       "\n",
       "    .dataframe tbody tr th {\n",
       "        vertical-align: top;\n",
       "    }\n",
       "\n",
       "    .dataframe thead th {\n",
       "        text-align: right;\n",
       "    }\n",
       "</style>\n",
       "<table border=\"1\" class=\"dataframe\">\n",
       "  <thead>\n",
       "    <tr style=\"text-align: right;\">\n",
       "      <th></th>\n",
       "      <th>aa</th>\n",
       "      <th>ab</th>\n",
       "      <th>abbey</th>\n",
       "      <th>abby</th>\n",
       "      <th>abdomen</th>\n",
       "      <th>ability</th>\n",
       "      <th>able</th>\n",
       "      <th>abnormally</th>\n",
       "      <th>abo</th>\n",
       "      <th>abou</th>\n",
       "      <th>...</th>\n",
       "      <th>zero</th>\n",
       "      <th>zig</th>\n",
       "      <th>zigzag</th>\n",
       "      <th>zip</th>\n",
       "      <th>zipped</th>\n",
       "      <th>zipper</th>\n",
       "      <th>zippered</th>\n",
       "      <th>zipping</th>\n",
       "      <th>zone</th>\n",
       "      <th>zoom</th>\n",
       "    </tr>\n",
       "  </thead>\n",
       "  <tbody>\n",
       "    <tr>\n",
       "      <th>0</th>\n",
       "      <td>0.0</td>\n",
       "      <td>0.0</td>\n",
       "      <td>0.0</td>\n",
       "      <td>0.0</td>\n",
       "      <td>0.0</td>\n",
       "      <td>0.0</td>\n",
       "      <td>0.0</td>\n",
       "      <td>0.0</td>\n",
       "      <td>0.0</td>\n",
       "      <td>0.0</td>\n",
       "      <td>...</td>\n",
       "      <td>0.0</td>\n",
       "      <td>0.0</td>\n",
       "      <td>0.0</td>\n",
       "      <td>0.145053</td>\n",
       "      <td>0.0</td>\n",
       "      <td>0.125917</td>\n",
       "      <td>0.0</td>\n",
       "      <td>0.0</td>\n",
       "      <td>0.0</td>\n",
       "      <td>0.0</td>\n",
       "    </tr>\n",
       "    <tr>\n",
       "      <th>1</th>\n",
       "      <td>0.0</td>\n",
       "      <td>0.0</td>\n",
       "      <td>0.0</td>\n",
       "      <td>0.0</td>\n",
       "      <td>0.0</td>\n",
       "      <td>0.0</td>\n",
       "      <td>0.0</td>\n",
       "      <td>0.0</td>\n",
       "      <td>0.0</td>\n",
       "      <td>0.0</td>\n",
       "      <td>...</td>\n",
       "      <td>0.0</td>\n",
       "      <td>0.0</td>\n",
       "      <td>0.0</td>\n",
       "      <td>0.000000</td>\n",
       "      <td>0.0</td>\n",
       "      <td>0.000000</td>\n",
       "      <td>0.0</td>\n",
       "      <td>0.0</td>\n",
       "      <td>0.0</td>\n",
       "      <td>0.0</td>\n",
       "    </tr>\n",
       "    <tr>\n",
       "      <th>2</th>\n",
       "      <td>0.0</td>\n",
       "      <td>0.0</td>\n",
       "      <td>0.0</td>\n",
       "      <td>0.0</td>\n",
       "      <td>0.0</td>\n",
       "      <td>0.0</td>\n",
       "      <td>0.0</td>\n",
       "      <td>0.0</td>\n",
       "      <td>0.0</td>\n",
       "      <td>0.0</td>\n",
       "      <td>...</td>\n",
       "      <td>0.0</td>\n",
       "      <td>0.0</td>\n",
       "      <td>0.0</td>\n",
       "      <td>0.000000</td>\n",
       "      <td>0.0</td>\n",
       "      <td>0.000000</td>\n",
       "      <td>0.0</td>\n",
       "      <td>0.0</td>\n",
       "      <td>0.0</td>\n",
       "      <td>0.0</td>\n",
       "    </tr>\n",
       "    <tr>\n",
       "      <th>3</th>\n",
       "      <td>0.0</td>\n",
       "      <td>0.0</td>\n",
       "      <td>0.0</td>\n",
       "      <td>0.0</td>\n",
       "      <td>0.0</td>\n",
       "      <td>0.0</td>\n",
       "      <td>0.0</td>\n",
       "      <td>0.0</td>\n",
       "      <td>0.0</td>\n",
       "      <td>0.0</td>\n",
       "      <td>...</td>\n",
       "      <td>0.0</td>\n",
       "      <td>0.0</td>\n",
       "      <td>0.0</td>\n",
       "      <td>0.000000</td>\n",
       "      <td>0.0</td>\n",
       "      <td>0.000000</td>\n",
       "      <td>0.0</td>\n",
       "      <td>0.0</td>\n",
       "      <td>0.0</td>\n",
       "      <td>0.0</td>\n",
       "    </tr>\n",
       "    <tr>\n",
       "      <th>4</th>\n",
       "      <td>0.0</td>\n",
       "      <td>0.0</td>\n",
       "      <td>0.0</td>\n",
       "      <td>0.0</td>\n",
       "      <td>0.0</td>\n",
       "      <td>0.0</td>\n",
       "      <td>0.0</td>\n",
       "      <td>0.0</td>\n",
       "      <td>0.0</td>\n",
       "      <td>0.0</td>\n",
       "      <td>...</td>\n",
       "      <td>0.0</td>\n",
       "      <td>0.0</td>\n",
       "      <td>0.0</td>\n",
       "      <td>0.000000</td>\n",
       "      <td>0.0</td>\n",
       "      <td>0.000000</td>\n",
       "      <td>0.0</td>\n",
       "      <td>0.0</td>\n",
       "      <td>0.0</td>\n",
       "      <td>0.0</td>\n",
       "    </tr>\n",
       "  </tbody>\n",
       "</table>\n",
       "<p>5 rows × 7197 columns</p>\n",
       "</div>"
      ],
      "text/plain": [
       "    aa   ab  abbey  abby  abdomen  ability  able  abnormally  abo  abou  ...  \\\n",
       "0  0.0  0.0    0.0   0.0      0.0      0.0   0.0         0.0  0.0   0.0  ...   \n",
       "1  0.0  0.0    0.0   0.0      0.0      0.0   0.0         0.0  0.0   0.0  ...   \n",
       "2  0.0  0.0    0.0   0.0      0.0      0.0   0.0         0.0  0.0   0.0  ...   \n",
       "3  0.0  0.0    0.0   0.0      0.0      0.0   0.0         0.0  0.0   0.0  ...   \n",
       "4  0.0  0.0    0.0   0.0      0.0      0.0   0.0         0.0  0.0   0.0  ...   \n",
       "\n",
       "   zero  zig  zigzag       zip  zipped    zipper  zippered  zipping  zone  \\\n",
       "0   0.0  0.0     0.0  0.145053     0.0  0.125917       0.0      0.0   0.0   \n",
       "1   0.0  0.0     0.0  0.000000     0.0  0.000000       0.0      0.0   0.0   \n",
       "2   0.0  0.0     0.0  0.000000     0.0  0.000000       0.0      0.0   0.0   \n",
       "3   0.0  0.0     0.0  0.000000     0.0  0.000000       0.0      0.0   0.0   \n",
       "4   0.0  0.0     0.0  0.000000     0.0  0.000000       0.0      0.0   0.0   \n",
       "\n",
       "   zoom  \n",
       "0   0.0  \n",
       "1   0.0  \n",
       "2   0.0  \n",
       "3   0.0  \n",
       "4   0.0  \n",
       "\n",
       "[5 rows x 7197 columns]"
      ]
     },
     "execution_count": 47,
     "metadata": {},
     "output_type": "execute_result"
    }
   ],
   "source": [
    "tf_df = pd.DataFrame(tfidf_df.toarray(),columns=sorted(tfidf.vocabulary_.keys()))\n",
    "tf_df.head()"
   ]
  },
  {
   "cell_type": "markdown",
   "id": "9e6b2b65-cd4f-4ba6-b4ae-a8abc0a2611d",
   "metadata": {},
   "source": [
    "## Split Data into Train and Test Set¶"
   ]
  },
  {
   "cell_type": "code",
   "execution_count": 48,
   "id": "5d18f674-8738-4014-ac5b-bc97ba17bcab",
   "metadata": {},
   "outputs": [
    {
     "data": {
      "text/plain": [
       "((19662, 13), (19662, 7197), (19662, 7197))"
      ]
     },
     "execution_count": 48,
     "metadata": {},
     "output_type": "execute_result"
    }
   ],
   "source": [
    "data.shape, count_df.shape, tf_df.shape"
   ]
  },
  {
   "cell_type": "code",
   "execution_count": 49,
   "id": "1cf0c104-1fb3-4334-9e77-c39ac96ac8e8",
   "metadata": {},
   "outputs": [
    {
     "data": {
      "text/html": [
       "<div>\n",
       "<style scoped>\n",
       "    .dataframe tbody tr th:only-of-type {\n",
       "        vertical-align: middle;\n",
       "    }\n",
       "\n",
       "    .dataframe tbody tr th {\n",
       "        vertical-align: top;\n",
       "    }\n",
       "\n",
       "    .dataframe thead th {\n",
       "        text-align: right;\n",
       "    }\n",
       "</style>\n",
       "<table border=\"1\" class=\"dataframe\">\n",
       "  <thead>\n",
       "    <tr style=\"text-align: right;\">\n",
       "      <th></th>\n",
       "      <th>aa</th>\n",
       "      <th>ab</th>\n",
       "      <th>abbey</th>\n",
       "      <th>abby</th>\n",
       "      <th>abdomen</th>\n",
       "      <th>ability</th>\n",
       "      <th>able</th>\n",
       "      <th>abnormally</th>\n",
       "      <th>abo</th>\n",
       "      <th>abou</th>\n",
       "      <th>...</th>\n",
       "      <th>zig</th>\n",
       "      <th>zigzag</th>\n",
       "      <th>zip</th>\n",
       "      <th>zipped</th>\n",
       "      <th>zipper</th>\n",
       "      <th>zippered</th>\n",
       "      <th>zipping</th>\n",
       "      <th>zone</th>\n",
       "      <th>zoom</th>\n",
       "      <th>Sentiment</th>\n",
       "    </tr>\n",
       "  </thead>\n",
       "  <tbody>\n",
       "    <tr>\n",
       "      <th>0</th>\n",
       "      <td>0</td>\n",
       "      <td>0</td>\n",
       "      <td>0</td>\n",
       "      <td>0</td>\n",
       "      <td>0</td>\n",
       "      <td>0</td>\n",
       "      <td>0</td>\n",
       "      <td>0</td>\n",
       "      <td>0</td>\n",
       "      <td>0</td>\n",
       "      <td>...</td>\n",
       "      <td>0</td>\n",
       "      <td>0</td>\n",
       "      <td>1</td>\n",
       "      <td>0</td>\n",
       "      <td>1</td>\n",
       "      <td>0</td>\n",
       "      <td>0</td>\n",
       "      <td>0</td>\n",
       "      <td>0</td>\n",
       "      <td>Negative</td>\n",
       "    </tr>\n",
       "    <tr>\n",
       "      <th>1</th>\n",
       "      <td>0</td>\n",
       "      <td>0</td>\n",
       "      <td>0</td>\n",
       "      <td>0</td>\n",
       "      <td>0</td>\n",
       "      <td>0</td>\n",
       "      <td>0</td>\n",
       "      <td>0</td>\n",
       "      <td>0</td>\n",
       "      <td>0</td>\n",
       "      <td>...</td>\n",
       "      <td>0</td>\n",
       "      <td>0</td>\n",
       "      <td>0</td>\n",
       "      <td>0</td>\n",
       "      <td>0</td>\n",
       "      <td>0</td>\n",
       "      <td>0</td>\n",
       "      <td>0</td>\n",
       "      <td>0</td>\n",
       "      <td>Positive</td>\n",
       "    </tr>\n",
       "    <tr>\n",
       "      <th>2</th>\n",
       "      <td>0</td>\n",
       "      <td>0</td>\n",
       "      <td>0</td>\n",
       "      <td>0</td>\n",
       "      <td>0</td>\n",
       "      <td>0</td>\n",
       "      <td>0</td>\n",
       "      <td>0</td>\n",
       "      <td>0</td>\n",
       "      <td>0</td>\n",
       "      <td>...</td>\n",
       "      <td>0</td>\n",
       "      <td>0</td>\n",
       "      <td>0</td>\n",
       "      <td>0</td>\n",
       "      <td>0</td>\n",
       "      <td>0</td>\n",
       "      <td>0</td>\n",
       "      <td>0</td>\n",
       "      <td>0</td>\n",
       "      <td>Positive</td>\n",
       "    </tr>\n",
       "    <tr>\n",
       "      <th>3</th>\n",
       "      <td>0</td>\n",
       "      <td>0</td>\n",
       "      <td>0</td>\n",
       "      <td>0</td>\n",
       "      <td>0</td>\n",
       "      <td>0</td>\n",
       "      <td>0</td>\n",
       "      <td>0</td>\n",
       "      <td>0</td>\n",
       "      <td>0</td>\n",
       "      <td>...</td>\n",
       "      <td>0</td>\n",
       "      <td>0</td>\n",
       "      <td>0</td>\n",
       "      <td>0</td>\n",
       "      <td>0</td>\n",
       "      <td>0</td>\n",
       "      <td>0</td>\n",
       "      <td>0</td>\n",
       "      <td>0</td>\n",
       "      <td>Negative</td>\n",
       "    </tr>\n",
       "    <tr>\n",
       "      <th>4</th>\n",
       "      <td>0</td>\n",
       "      <td>0</td>\n",
       "      <td>0</td>\n",
       "      <td>0</td>\n",
       "      <td>0</td>\n",
       "      <td>0</td>\n",
       "      <td>0</td>\n",
       "      <td>0</td>\n",
       "      <td>0</td>\n",
       "      <td>0</td>\n",
       "      <td>...</td>\n",
       "      <td>0</td>\n",
       "      <td>0</td>\n",
       "      <td>0</td>\n",
       "      <td>0</td>\n",
       "      <td>0</td>\n",
       "      <td>0</td>\n",
       "      <td>0</td>\n",
       "      <td>0</td>\n",
       "      <td>0</td>\n",
       "      <td>Positive</td>\n",
       "    </tr>\n",
       "  </tbody>\n",
       "</table>\n",
       "<p>5 rows × 7198 columns</p>\n",
       "</div>"
      ],
      "text/plain": [
       "   aa  ab  abbey  abby  abdomen  ability  able  abnormally  abo  abou  ...  \\\n",
       "0   0   0      0     0        0        0     0           0    0     0  ...   \n",
       "1   0   0      0     0        0        0     0           0    0     0  ...   \n",
       "2   0   0      0     0        0        0     0           0    0     0  ...   \n",
       "3   0   0      0     0        0        0     0           0    0     0  ...   \n",
       "4   0   0      0     0        0        0     0           0    0     0  ...   \n",
       "\n",
       "   zig  zigzag  zip  zipped  zipper  zippered  zipping  zone  zoom  Sentiment  \n",
       "0    0       0    1       0       1         0        0     0     0   Negative  \n",
       "1    0       0    0       0       0         0        0     0     0   Positive  \n",
       "2    0       0    0       0       0         0        0     0     0   Positive  \n",
       "3    0       0    0       0       0         0        0     0     0   Negative  \n",
       "4    0       0    0       0       0         0        0     0     0   Positive  \n",
       "\n",
       "[5 rows x 7198 columns]"
      ]
     },
     "execution_count": 49,
     "metadata": {},
     "output_type": "execute_result"
    }
   ],
   "source": [
    "count_df['Sentiment'] = data['Sentiment']\n",
    "tf_df['Sentiment'] = data['Sentiment']\n",
    "count_df.head()"
   ]
  },
  {
   "cell_type": "code",
   "execution_count": 50,
   "id": "b795775b-9249-4172-99f6-cad8036e952c",
   "metadata": {},
   "outputs": [
    {
     "data": {
      "text/html": [
       "<div>\n",
       "<style scoped>\n",
       "    .dataframe tbody tr th:only-of-type {\n",
       "        vertical-align: middle;\n",
       "    }\n",
       "\n",
       "    .dataframe tbody tr th {\n",
       "        vertical-align: top;\n",
       "    }\n",
       "\n",
       "    .dataframe thead th {\n",
       "        text-align: right;\n",
       "    }\n",
       "</style>\n",
       "<table border=\"1\" class=\"dataframe\">\n",
       "  <thead>\n",
       "    <tr style=\"text-align: right;\">\n",
       "      <th></th>\n",
       "      <th>aa</th>\n",
       "      <th>ab</th>\n",
       "      <th>abbey</th>\n",
       "      <th>abby</th>\n",
       "      <th>abdomen</th>\n",
       "      <th>ability</th>\n",
       "      <th>able</th>\n",
       "      <th>abnormally</th>\n",
       "      <th>abo</th>\n",
       "      <th>abou</th>\n",
       "      <th>...</th>\n",
       "      <th>zig</th>\n",
       "      <th>zigzag</th>\n",
       "      <th>zip</th>\n",
       "      <th>zipped</th>\n",
       "      <th>zipper</th>\n",
       "      <th>zippered</th>\n",
       "      <th>zipping</th>\n",
       "      <th>zone</th>\n",
       "      <th>zoom</th>\n",
       "      <th>Sentiment</th>\n",
       "    </tr>\n",
       "  </thead>\n",
       "  <tbody>\n",
       "    <tr>\n",
       "      <th>0</th>\n",
       "      <td>0.0</td>\n",
       "      <td>0.0</td>\n",
       "      <td>0.0</td>\n",
       "      <td>0.0</td>\n",
       "      <td>0.0</td>\n",
       "      <td>0.0</td>\n",
       "      <td>0.0</td>\n",
       "      <td>0.0</td>\n",
       "      <td>0.0</td>\n",
       "      <td>0.0</td>\n",
       "      <td>...</td>\n",
       "      <td>0.0</td>\n",
       "      <td>0.0</td>\n",
       "      <td>0.145053</td>\n",
       "      <td>0.0</td>\n",
       "      <td>0.125917</td>\n",
       "      <td>0.0</td>\n",
       "      <td>0.0</td>\n",
       "      <td>0.0</td>\n",
       "      <td>0.0</td>\n",
       "      <td>Negative</td>\n",
       "    </tr>\n",
       "    <tr>\n",
       "      <th>1</th>\n",
       "      <td>0.0</td>\n",
       "      <td>0.0</td>\n",
       "      <td>0.0</td>\n",
       "      <td>0.0</td>\n",
       "      <td>0.0</td>\n",
       "      <td>0.0</td>\n",
       "      <td>0.0</td>\n",
       "      <td>0.0</td>\n",
       "      <td>0.0</td>\n",
       "      <td>0.0</td>\n",
       "      <td>...</td>\n",
       "      <td>0.0</td>\n",
       "      <td>0.0</td>\n",
       "      <td>0.000000</td>\n",
       "      <td>0.0</td>\n",
       "      <td>0.000000</td>\n",
       "      <td>0.0</td>\n",
       "      <td>0.0</td>\n",
       "      <td>0.0</td>\n",
       "      <td>0.0</td>\n",
       "      <td>Positive</td>\n",
       "    </tr>\n",
       "    <tr>\n",
       "      <th>2</th>\n",
       "      <td>0.0</td>\n",
       "      <td>0.0</td>\n",
       "      <td>0.0</td>\n",
       "      <td>0.0</td>\n",
       "      <td>0.0</td>\n",
       "      <td>0.0</td>\n",
       "      <td>0.0</td>\n",
       "      <td>0.0</td>\n",
       "      <td>0.0</td>\n",
       "      <td>0.0</td>\n",
       "      <td>...</td>\n",
       "      <td>0.0</td>\n",
       "      <td>0.0</td>\n",
       "      <td>0.000000</td>\n",
       "      <td>0.0</td>\n",
       "      <td>0.000000</td>\n",
       "      <td>0.0</td>\n",
       "      <td>0.0</td>\n",
       "      <td>0.0</td>\n",
       "      <td>0.0</td>\n",
       "      <td>Positive</td>\n",
       "    </tr>\n",
       "  </tbody>\n",
       "</table>\n",
       "<p>3 rows × 7198 columns</p>\n",
       "</div>"
      ],
      "text/plain": [
       "    aa   ab  abbey  abby  abdomen  ability  able  abnormally  abo  abou  ...  \\\n",
       "0  0.0  0.0    0.0   0.0      0.0      0.0   0.0         0.0  0.0   0.0  ...   \n",
       "1  0.0  0.0    0.0   0.0      0.0      0.0   0.0         0.0  0.0   0.0  ...   \n",
       "2  0.0  0.0    0.0   0.0      0.0      0.0   0.0         0.0  0.0   0.0  ...   \n",
       "\n",
       "   zig  zigzag       zip  zipped    zipper  zippered  zipping  zone  zoom  \\\n",
       "0  0.0     0.0  0.145053     0.0  0.125917       0.0      0.0   0.0   0.0   \n",
       "1  0.0     0.0  0.000000     0.0  0.000000       0.0      0.0   0.0   0.0   \n",
       "2  0.0     0.0  0.000000     0.0  0.000000       0.0      0.0   0.0   0.0   \n",
       "\n",
       "   Sentiment  \n",
       "0   Negative  \n",
       "1   Positive  \n",
       "2   Positive  \n",
       "\n",
       "[3 rows x 7198 columns]"
      ]
     },
     "execution_count": 50,
     "metadata": {},
     "output_type": "execute_result"
    }
   ],
   "source": [
    "tf_df.head(3)"
   ]
  },
  {
   "cell_type": "code",
   "execution_count": 51,
   "id": "2bc43aab-8b5a-4fbf-8368-5c84aa970f67",
   "metadata": {},
   "outputs": [],
   "source": [
    "label_mapping ={'Negative':0,'Positive':1}"
   ]
  },
  {
   "cell_type": "code",
   "execution_count": 52,
   "id": "4013b71c-80b9-4e11-b867-a094f3b11d97",
   "metadata": {},
   "outputs": [],
   "source": [
    "count_df['Sentiment']  = count_df['Sentiment'].apply(lambda x:label_mapping[x])\n",
    "tf_df['Sentiment']  = tf_df['Sentiment'].apply(lambda x:label_mapping[x])"
   ]
  },
  {
   "cell_type": "code",
   "execution_count": 53,
   "id": "6ce76f4b-ff4e-488f-ab13-9f5aab9cf224",
   "metadata": {},
   "outputs": [
    {
     "data": {
      "text/html": [
       "<div>\n",
       "<style scoped>\n",
       "    .dataframe tbody tr th:only-of-type {\n",
       "        vertical-align: middle;\n",
       "    }\n",
       "\n",
       "    .dataframe tbody tr th {\n",
       "        vertical-align: top;\n",
       "    }\n",
       "\n",
       "    .dataframe thead th {\n",
       "        text-align: right;\n",
       "    }\n",
       "</style>\n",
       "<table border=\"1\" class=\"dataframe\">\n",
       "  <thead>\n",
       "    <tr style=\"text-align: right;\">\n",
       "      <th></th>\n",
       "      <th>aa</th>\n",
       "      <th>ab</th>\n",
       "      <th>abbey</th>\n",
       "      <th>abby</th>\n",
       "      <th>abdomen</th>\n",
       "      <th>ability</th>\n",
       "      <th>able</th>\n",
       "      <th>abnormally</th>\n",
       "      <th>abo</th>\n",
       "      <th>abou</th>\n",
       "      <th>...</th>\n",
       "      <th>zig</th>\n",
       "      <th>zigzag</th>\n",
       "      <th>zip</th>\n",
       "      <th>zipped</th>\n",
       "      <th>zipper</th>\n",
       "      <th>zippered</th>\n",
       "      <th>zipping</th>\n",
       "      <th>zone</th>\n",
       "      <th>zoom</th>\n",
       "      <th>Sentiment</th>\n",
       "    </tr>\n",
       "  </thead>\n",
       "  <tbody>\n",
       "    <tr>\n",
       "      <th>0</th>\n",
       "      <td>0.0</td>\n",
       "      <td>0.0</td>\n",
       "      <td>0.0</td>\n",
       "      <td>0.0</td>\n",
       "      <td>0.0</td>\n",
       "      <td>0.0</td>\n",
       "      <td>0.0</td>\n",
       "      <td>0.0</td>\n",
       "      <td>0.0</td>\n",
       "      <td>0.0</td>\n",
       "      <td>...</td>\n",
       "      <td>0.0</td>\n",
       "      <td>0.0</td>\n",
       "      <td>0.145053</td>\n",
       "      <td>0.0</td>\n",
       "      <td>0.125917</td>\n",
       "      <td>0.0</td>\n",
       "      <td>0.0</td>\n",
       "      <td>0.0</td>\n",
       "      <td>0.0</td>\n",
       "      <td>0</td>\n",
       "    </tr>\n",
       "    <tr>\n",
       "      <th>1</th>\n",
       "      <td>0.0</td>\n",
       "      <td>0.0</td>\n",
       "      <td>0.0</td>\n",
       "      <td>0.0</td>\n",
       "      <td>0.0</td>\n",
       "      <td>0.0</td>\n",
       "      <td>0.0</td>\n",
       "      <td>0.0</td>\n",
       "      <td>0.0</td>\n",
       "      <td>0.0</td>\n",
       "      <td>...</td>\n",
       "      <td>0.0</td>\n",
       "      <td>0.0</td>\n",
       "      <td>0.000000</td>\n",
       "      <td>0.0</td>\n",
       "      <td>0.000000</td>\n",
       "      <td>0.0</td>\n",
       "      <td>0.0</td>\n",
       "      <td>0.0</td>\n",
       "      <td>0.0</td>\n",
       "      <td>1</td>\n",
       "    </tr>\n",
       "    <tr>\n",
       "      <th>2</th>\n",
       "      <td>0.0</td>\n",
       "      <td>0.0</td>\n",
       "      <td>0.0</td>\n",
       "      <td>0.0</td>\n",
       "      <td>0.0</td>\n",
       "      <td>0.0</td>\n",
       "      <td>0.0</td>\n",
       "      <td>0.0</td>\n",
       "      <td>0.0</td>\n",
       "      <td>0.0</td>\n",
       "      <td>...</td>\n",
       "      <td>0.0</td>\n",
       "      <td>0.0</td>\n",
       "      <td>0.000000</td>\n",
       "      <td>0.0</td>\n",
       "      <td>0.000000</td>\n",
       "      <td>0.0</td>\n",
       "      <td>0.0</td>\n",
       "      <td>0.0</td>\n",
       "      <td>0.0</td>\n",
       "      <td>1</td>\n",
       "    </tr>\n",
       "  </tbody>\n",
       "</table>\n",
       "<p>3 rows × 7198 columns</p>\n",
       "</div>"
      ],
      "text/plain": [
       "    aa   ab  abbey  abby  abdomen  ability  able  abnormally  abo  abou  ...  \\\n",
       "0  0.0  0.0    0.0   0.0      0.0      0.0   0.0         0.0  0.0   0.0  ...   \n",
       "1  0.0  0.0    0.0   0.0      0.0      0.0   0.0         0.0  0.0   0.0  ...   \n",
       "2  0.0  0.0    0.0   0.0      0.0      0.0   0.0         0.0  0.0   0.0  ...   \n",
       "\n",
       "   zig  zigzag       zip  zipped    zipper  zippered  zipping  zone  zoom  \\\n",
       "0  0.0     0.0  0.145053     0.0  0.125917       0.0      0.0   0.0   0.0   \n",
       "1  0.0     0.0  0.000000     0.0  0.000000       0.0      0.0   0.0   0.0   \n",
       "2  0.0     0.0  0.000000     0.0  0.000000       0.0      0.0   0.0   0.0   \n",
       "\n",
       "   Sentiment  \n",
       "0          0  \n",
       "1          1  \n",
       "2          1  \n",
       "\n",
       "[3 rows x 7198 columns]"
      ]
     },
     "execution_count": 53,
     "metadata": {},
     "output_type": "execute_result"
    }
   ],
   "source": [
    "tf_df.head(3)"
   ]
  },
  {
   "cell_type": "code",
   "execution_count": 54,
   "id": "84bc2c33-3c6c-4f69-bc9d-c7dc39f5bf66",
   "metadata": {},
   "outputs": [
    {
     "data": {
      "text/html": [
       "<div>\n",
       "<style scoped>\n",
       "    .dataframe tbody tr th:only-of-type {\n",
       "        vertical-align: middle;\n",
       "    }\n",
       "\n",
       "    .dataframe tbody tr th {\n",
       "        vertical-align: top;\n",
       "    }\n",
       "\n",
       "    .dataframe thead th {\n",
       "        text-align: right;\n",
       "    }\n",
       "</style>\n",
       "<table border=\"1\" class=\"dataframe\">\n",
       "  <thead>\n",
       "    <tr style=\"text-align: right;\">\n",
       "      <th></th>\n",
       "      <th>aa</th>\n",
       "      <th>ab</th>\n",
       "      <th>abbey</th>\n",
       "      <th>abby</th>\n",
       "      <th>abdomen</th>\n",
       "      <th>ability</th>\n",
       "      <th>able</th>\n",
       "      <th>abnormally</th>\n",
       "      <th>abo</th>\n",
       "      <th>abou</th>\n",
       "      <th>...</th>\n",
       "      <th>zig</th>\n",
       "      <th>zigzag</th>\n",
       "      <th>zip</th>\n",
       "      <th>zipped</th>\n",
       "      <th>zipper</th>\n",
       "      <th>zippered</th>\n",
       "      <th>zipping</th>\n",
       "      <th>zone</th>\n",
       "      <th>zoom</th>\n",
       "      <th>Sentiment</th>\n",
       "    </tr>\n",
       "  </thead>\n",
       "  <tbody>\n",
       "    <tr>\n",
       "      <th>0</th>\n",
       "      <td>0</td>\n",
       "      <td>0</td>\n",
       "      <td>0</td>\n",
       "      <td>0</td>\n",
       "      <td>0</td>\n",
       "      <td>0</td>\n",
       "      <td>0</td>\n",
       "      <td>0</td>\n",
       "      <td>0</td>\n",
       "      <td>0</td>\n",
       "      <td>...</td>\n",
       "      <td>0</td>\n",
       "      <td>0</td>\n",
       "      <td>1</td>\n",
       "      <td>0</td>\n",
       "      <td>1</td>\n",
       "      <td>0</td>\n",
       "      <td>0</td>\n",
       "      <td>0</td>\n",
       "      <td>0</td>\n",
       "      <td>0</td>\n",
       "    </tr>\n",
       "    <tr>\n",
       "      <th>1</th>\n",
       "      <td>0</td>\n",
       "      <td>0</td>\n",
       "      <td>0</td>\n",
       "      <td>0</td>\n",
       "      <td>0</td>\n",
       "      <td>0</td>\n",
       "      <td>0</td>\n",
       "      <td>0</td>\n",
       "      <td>0</td>\n",
       "      <td>0</td>\n",
       "      <td>...</td>\n",
       "      <td>0</td>\n",
       "      <td>0</td>\n",
       "      <td>0</td>\n",
       "      <td>0</td>\n",
       "      <td>0</td>\n",
       "      <td>0</td>\n",
       "      <td>0</td>\n",
       "      <td>0</td>\n",
       "      <td>0</td>\n",
       "      <td>1</td>\n",
       "    </tr>\n",
       "    <tr>\n",
       "      <th>2</th>\n",
       "      <td>0</td>\n",
       "      <td>0</td>\n",
       "      <td>0</td>\n",
       "      <td>0</td>\n",
       "      <td>0</td>\n",
       "      <td>0</td>\n",
       "      <td>0</td>\n",
       "      <td>0</td>\n",
       "      <td>0</td>\n",
       "      <td>0</td>\n",
       "      <td>...</td>\n",
       "      <td>0</td>\n",
       "      <td>0</td>\n",
       "      <td>0</td>\n",
       "      <td>0</td>\n",
       "      <td>0</td>\n",
       "      <td>0</td>\n",
       "      <td>0</td>\n",
       "      <td>0</td>\n",
       "      <td>0</td>\n",
       "      <td>1</td>\n",
       "    </tr>\n",
       "  </tbody>\n",
       "</table>\n",
       "<p>3 rows × 7198 columns</p>\n",
       "</div>"
      ],
      "text/plain": [
       "   aa  ab  abbey  abby  abdomen  ability  able  abnormally  abo  abou  ...  \\\n",
       "0   0   0      0     0        0        0     0           0    0     0  ...   \n",
       "1   0   0      0     0        0        0     0           0    0     0  ...   \n",
       "2   0   0      0     0        0        0     0           0    0     0  ...   \n",
       "\n",
       "   zig  zigzag  zip  zipped  zipper  zippered  zipping  zone  zoom  Sentiment  \n",
       "0    0       0    1       0       1         0        0     0     0          0  \n",
       "1    0       0    0       0       0         0        0     0     0          1  \n",
       "2    0       0    0       0       0         0        0     0     0          1  \n",
       "\n",
       "[3 rows x 7198 columns]"
      ]
     },
     "execution_count": 54,
     "metadata": {},
     "output_type": "execute_result"
    }
   ],
   "source": [
    "count_df.head(3)"
   ]
  },
  {
   "cell_type": "code",
   "execution_count": 55,
   "id": "ff4fb063-c88a-4494-ace5-0cf0d777bae4",
   "metadata": {},
   "outputs": [],
   "source": [
    "Count_X = count_df.iloc[:,:-1]\n",
    "Count_Y = count_df['Sentiment']\n",
    "\n",
    "Tf_X = tf_df.iloc[:,:-1]\n",
    "Tf_Y = tf_df['Sentiment']"
   ]
  },
  {
   "cell_type": "code",
   "execution_count": 56,
   "id": "eb0a3568-bbc0-4864-ad5b-718c8fbcc108",
   "metadata": {},
   "outputs": [],
   "source": [
    "from sklearn.model_selection import train_test_split"
   ]
  },
  {
   "cell_type": "code",
   "execution_count": 57,
   "id": "2b567b90-3726-491f-8523-ba73d8b9a436",
   "metadata": {},
   "outputs": [],
   "source": [
    "xtrain,xtest,ytrain,ytest = train_test_split(Count_X,Count_Y,test_size=0.20,stratify=Count_Y,random_state=45)\n",
    "xtrain1,xtest1,ytrain1,ytest1 = train_test_split(Tf_X,Tf_Y,test_size=0.20,stratify=Tf_Y,random_state=45)"
   ]
  },
  {
   "cell_type": "code",
   "execution_count": 58,
   "id": "e9d539a1-2f1f-40c4-94d7-488107a62e8e",
   "metadata": {},
   "outputs": [
    {
     "data": {
      "text/plain": [
       "((15729, 7197), (3933, 7197), (15729,), (3933,))"
      ]
     },
     "execution_count": 58,
     "metadata": {},
     "output_type": "execute_result"
    }
   ],
   "source": [
    "xtrain.shape,xtest.shape,ytrain.shape,ytest.shape"
   ]
  },
  {
   "cell_type": "code",
   "execution_count": 59,
   "id": "dba6791b-818b-4f0d-ad11-1039213ffedf",
   "metadata": {},
   "outputs": [],
   "source": [
    "from sklearn.linear_model import LogisticRegression"
   ]
  },
  {
   "cell_type": "code",
   "execution_count": 60,
   "id": "0e48fac4-47b2-47e0-8950-1f5c7d100755",
   "metadata": {},
   "outputs": [],
   "source": [
    "lr_cnt= LogisticRegression()\n",
    "lr_tfidf = LogisticRegression()"
   ]
  },
  {
   "cell_type": "code",
   "execution_count": 61,
   "id": "c10ccbdf-45be-4d30-90a6-e64f0af27f5e",
   "metadata": {},
   "outputs": [
    {
     "name": "stderr",
     "output_type": "stream",
     "text": [
      "C:\\Users\\hp\\anaconda3\\Lib\\site-packages\\sklearn\\linear_model\\_logistic.py:458: ConvergenceWarning: lbfgs failed to converge (status=1):\n",
      "STOP: TOTAL NO. of ITERATIONS REACHED LIMIT.\n",
      "\n",
      "Increase the number of iterations (max_iter) or scale the data as shown in:\n",
      "    https://scikit-learn.org/stable/modules/preprocessing.html\n",
      "Please also refer to the documentation for alternative solver options:\n",
      "    https://scikit-learn.org/stable/modules/linear_model.html#logistic-regression\n",
      "  n_iter_i = _check_optimize_result(\n"
     ]
    },
    {
     "data": {
      "text/html": [
       "<style>#sk-container-id-1 {color: black;background-color: white;}#sk-container-id-1 pre{padding: 0;}#sk-container-id-1 div.sk-toggleable {background-color: white;}#sk-container-id-1 label.sk-toggleable__label {cursor: pointer;display: block;width: 100%;margin-bottom: 0;padding: 0.3em;box-sizing: border-box;text-align: center;}#sk-container-id-1 label.sk-toggleable__label-arrow:before {content: \"▸\";float: left;margin-right: 0.25em;color: #696969;}#sk-container-id-1 label.sk-toggleable__label-arrow:hover:before {color: black;}#sk-container-id-1 div.sk-estimator:hover label.sk-toggleable__label-arrow:before {color: black;}#sk-container-id-1 div.sk-toggleable__content {max-height: 0;max-width: 0;overflow: hidden;text-align: left;background-color: #f0f8ff;}#sk-container-id-1 div.sk-toggleable__content pre {margin: 0.2em;color: black;border-radius: 0.25em;background-color: #f0f8ff;}#sk-container-id-1 input.sk-toggleable__control:checked~div.sk-toggleable__content {max-height: 200px;max-width: 100%;overflow: auto;}#sk-container-id-1 input.sk-toggleable__control:checked~label.sk-toggleable__label-arrow:before {content: \"▾\";}#sk-container-id-1 div.sk-estimator input.sk-toggleable__control:checked~label.sk-toggleable__label {background-color: #d4ebff;}#sk-container-id-1 div.sk-label input.sk-toggleable__control:checked~label.sk-toggleable__label {background-color: #d4ebff;}#sk-container-id-1 input.sk-hidden--visually {border: 0;clip: rect(1px 1px 1px 1px);clip: rect(1px, 1px, 1px, 1px);height: 1px;margin: -1px;overflow: hidden;padding: 0;position: absolute;width: 1px;}#sk-container-id-1 div.sk-estimator {font-family: monospace;background-color: #f0f8ff;border: 1px dotted black;border-radius: 0.25em;box-sizing: border-box;margin-bottom: 0.5em;}#sk-container-id-1 div.sk-estimator:hover {background-color: #d4ebff;}#sk-container-id-1 div.sk-parallel-item::after {content: \"\";width: 100%;border-bottom: 1px solid gray;flex-grow: 1;}#sk-container-id-1 div.sk-label:hover label.sk-toggleable__label {background-color: #d4ebff;}#sk-container-id-1 div.sk-serial::before {content: \"\";position: absolute;border-left: 1px solid gray;box-sizing: border-box;top: 0;bottom: 0;left: 50%;z-index: 0;}#sk-container-id-1 div.sk-serial {display: flex;flex-direction: column;align-items: center;background-color: white;padding-right: 0.2em;padding-left: 0.2em;position: relative;}#sk-container-id-1 div.sk-item {position: relative;z-index: 1;}#sk-container-id-1 div.sk-parallel {display: flex;align-items: stretch;justify-content: center;background-color: white;position: relative;}#sk-container-id-1 div.sk-item::before, #sk-container-id-1 div.sk-parallel-item::before {content: \"\";position: absolute;border-left: 1px solid gray;box-sizing: border-box;top: 0;bottom: 0;left: 50%;z-index: -1;}#sk-container-id-1 div.sk-parallel-item {display: flex;flex-direction: column;z-index: 1;position: relative;background-color: white;}#sk-container-id-1 div.sk-parallel-item:first-child::after {align-self: flex-end;width: 50%;}#sk-container-id-1 div.sk-parallel-item:last-child::after {align-self: flex-start;width: 50%;}#sk-container-id-1 div.sk-parallel-item:only-child::after {width: 0;}#sk-container-id-1 div.sk-dashed-wrapped {border: 1px dashed gray;margin: 0 0.4em 0.5em 0.4em;box-sizing: border-box;padding-bottom: 0.4em;background-color: white;}#sk-container-id-1 div.sk-label label {font-family: monospace;font-weight: bold;display: inline-block;line-height: 1.2em;}#sk-container-id-1 div.sk-label-container {text-align: center;}#sk-container-id-1 div.sk-container {/* jupyter's `normalize.less` sets `[hidden] { display: none; }` but bootstrap.min.css set `[hidden] { display: none !important; }` so we also need the `!important` here to be able to override the default hidden behavior on the sphinx rendered scikit-learn.org. See: https://github.com/scikit-learn/scikit-learn/issues/21755 */display: inline-block !important;position: relative;}#sk-container-id-1 div.sk-text-repr-fallback {display: none;}</style><div id=\"sk-container-id-1\" class=\"sk-top-container\"><div class=\"sk-text-repr-fallback\"><pre>LogisticRegression()</pre><b>In a Jupyter environment, please rerun this cell to show the HTML representation or trust the notebook. <br />On GitHub, the HTML representation is unable to render, please try loading this page with nbviewer.org.</b></div><div class=\"sk-container\" hidden><div class=\"sk-item\"><div class=\"sk-estimator sk-toggleable\"><input class=\"sk-toggleable__control sk-hidden--visually\" id=\"sk-estimator-id-1\" type=\"checkbox\" checked><label for=\"sk-estimator-id-1\" class=\"sk-toggleable__label sk-toggleable__label-arrow\">LogisticRegression</label><div class=\"sk-toggleable__content\"><pre>LogisticRegression()</pre></div></div></div></div></div>"
      ],
      "text/plain": [
       "LogisticRegression()"
      ]
     },
     "execution_count": 61,
     "metadata": {},
     "output_type": "execute_result"
    }
   ],
   "source": [
    "lr_cnt.fit(xtrain,ytrain)\n",
    "lr_tfidf.fit(xtrain1,ytrain1)"
   ]
  },
  {
   "cell_type": "code",
   "execution_count": 62,
   "id": "20bbc61e-d034-482f-9506-4f0e21f6a958",
   "metadata": {},
   "outputs": [],
   "source": [
    "pred_cnt = lr_cnt.predict(xtest)\n",
    "pred_tf = lr_tfidf.predict(xtest1)"
   ]
  },
  {
   "cell_type": "code",
   "execution_count": 63,
   "id": "92c58e65-3e9e-43f4-acd7-f2dfedf1aa68",
   "metadata": {},
   "outputs": [],
   "source": [
    "from sklearn.metrics import classification_report,accuracy_score"
   ]
  },
  {
   "cell_type": "code",
   "execution_count": 64,
   "id": "e876724f-c080-44e4-9b7a-6eb7b6c7f816",
   "metadata": {},
   "outputs": [
    {
     "data": {
      "text/plain": [
       "0.8749046529366895"
      ]
     },
     "execution_count": 64,
     "metadata": {},
     "output_type": "execute_result"
    }
   ],
   "source": [
    "## Count Vectorizer\n",
    "acc_score = accuracy_score(ytest,pred_cnt)\n",
    "acc_score"
   ]
  },
  {
   "cell_type": "code",
   "execution_count": 65,
   "id": "e55fd205-1a63-4387-b8a8-71f0016751fe",
   "metadata": {},
   "outputs": [
    {
     "name": "stdout",
     "output_type": "stream",
     "text": [
      "              precision    recall  f1-score   support\n",
      "\n",
      "           0       0.76      0.67      0.71       903\n",
      "           1       0.90      0.94      0.92      3030\n",
      "\n",
      "    accuracy                           0.87      3933\n",
      "   macro avg       0.83      0.80      0.82      3933\n",
      "weighted avg       0.87      0.87      0.87      3933\n",
      "\n"
     ]
    }
   ],
   "source": [
    "print(classification_report(ytest,pred_cnt))"
   ]
  },
  {
   "cell_type": "code",
   "execution_count": 66,
   "id": "29d49b69-1da6-41d1-877e-e7b6b495aa76",
   "metadata": {},
   "outputs": [
    {
     "data": {
      "text/plain": [
       "0.8759216882786677"
      ]
     },
     "execution_count": 66,
     "metadata": {},
     "output_type": "execute_result"
    }
   ],
   "source": [
    "## Tf IDF Vectorizer\n",
    "acc_score1 = accuracy_score(ytest1,pred_tf)\n",
    "acc_score1"
   ]
  },
  {
   "cell_type": "code",
   "execution_count": 67,
   "id": "f16f736f-afc0-4a4d-bbb7-83099018e4fe",
   "metadata": {},
   "outputs": [
    {
     "name": "stdout",
     "output_type": "stream",
     "text": [
      "              precision    recall  f1-score   support\n",
      "\n",
      "           0       0.81      0.60      0.69       903\n",
      "           1       0.89      0.96      0.92      3030\n",
      "\n",
      "    accuracy                           0.88      3933\n",
      "   macro avg       0.85      0.78      0.81      3933\n",
      "weighted avg       0.87      0.88      0.87      3933\n",
      "\n"
     ]
    }
   ],
   "source": [
    "print(classification_report(ytest1,pred_tf))"
   ]
  },
  {
   "cell_type": "code",
   "execution_count": null,
   "id": "6a41cf62-d6d3-4e2f-8eab-c6fb20d28d8d",
   "metadata": {},
   "outputs": [],
   "source": []
  },
  {
   "cell_type": "code",
   "execution_count": null,
   "id": "a57e4ddc-4f1c-4232-8f75-2fbbab036be7",
   "metadata": {},
   "outputs": [],
   "source": []
  },
  {
   "cell_type": "code",
   "execution_count": null,
   "id": "68fc001c-b81f-44af-99de-f80a90434b79",
   "metadata": {},
   "outputs": [],
   "source": []
  },
  {
   "cell_type": "code",
   "execution_count": null,
   "id": "4a98fb51-fdc3-4a3f-b3b1-a66cf9597d38",
   "metadata": {},
   "outputs": [],
   "source": []
  },
  {
   "cell_type": "code",
   "execution_count": null,
   "id": "82ec4b21-3fb0-4dc6-b326-bfaabf1a6a18",
   "metadata": {},
   "outputs": [],
   "source": []
  },
  {
   "cell_type": "code",
   "execution_count": null,
   "id": "a2381e26-d233-4658-9089-3411631dc656",
   "metadata": {},
   "outputs": [],
   "source": []
  },
  {
   "cell_type": "code",
   "execution_count": null,
   "id": "95264f30-1ee3-409a-9fc9-70a0a172f677",
   "metadata": {},
   "outputs": [],
   "source": []
  },
  {
   "cell_type": "code",
   "execution_count": null,
   "id": "58d91a15-2b83-4bee-8e8c-2eba388c779e",
   "metadata": {},
   "outputs": [],
   "source": []
  }
 ],
 "metadata": {
  "kernelspec": {
   "display_name": "Python 3 (ipykernel)",
   "language": "python",
   "name": "python3"
  },
  "language_info": {
   "codemirror_mode": {
    "name": "ipython",
    "version": 3
   },
   "file_extension": ".py",
   "mimetype": "text/x-python",
   "name": "python",
   "nbconvert_exporter": "python",
   "pygments_lexer": "ipython3",
   "version": "3.11.7"
  }
 },
 "nbformat": 4,
 "nbformat_minor": 5
}
